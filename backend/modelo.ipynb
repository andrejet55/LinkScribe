{
 "cells": [
  {
   "cell_type": "code",
   "execution_count": 3,
   "metadata": {},
   "outputs": [],
   "source": [
    "import numpy as np\n",
    "import pandas as pd\n",
    "import matplotlib.pyplot as plt\n",
    "from transformers import pipeline\n",
    "from bs4 import BeautifulSoup\n",
    "import requests\n",
    "import tensorflow as tf\n",
    "from sklearn.preprocessing import LabelEncoder\n",
    "from sklearn.model_selection import train_test_split\n",
    "import seaborn as sb\n",
    "from sklearn.pipeline import Pipeline\n",
    "from sklearn.feature_extraction.text import TfidfVectorizer\n",
    "from sklearn.svm import LinearSVC\n",
    "import sklearn.metrics as sm\n",
    "from sklearn.metrics import confusion_matrix, classification_report, accuracy_score\n",
    "from pathlib import Path\n",
    "import pickle"
   ]
  },
  {
   "cell_type": "code",
   "execution_count": 2,
   "metadata": {},
   "outputs": [],
   "source": [
    "MODELS_DIR = Path(\"models/\")\n",
    "SKLEARN_MODEL_PATH = MODELS_DIR.joinpath(\"sklearn/web_scrapper.pk\")\n",
    "\n",
    "\n",
    "SKLEARN_MODEL_PATH.parent.mkdir(exist_ok=True, parents=True)\n"
   ]
  },
  {
   "cell_type": "code",
   "execution_count": 37,
   "metadata": {},
   "outputs": [
    {
     "name": "stdout",
     "output_type": "stream",
     "text": [
      "Collecting transformers[torch]\n",
      "  Obtaining dependency information for transformers[torch] from https://files.pythonhosted.org/packages/98/46/f6a79f944d5c7763a9bc13b2aa6ac72daf43a6551f5fb03bccf0a9c2fec1/transformers-4.33.3-py3-none-any.whl.metadata\n",
      "  Using cached transformers-4.33.3-py3-none-any.whl.metadata (119 kB)\n",
      "Requirement already satisfied: filelock in c:\\users\\andresvj\\desktop\\proyecto final\\backend\\.venv\\lib\\site-packages (from transformers[torch]) (3.12.4)\n",
      "Requirement already satisfied: huggingface-hub<1.0,>=0.15.1 in c:\\users\\andresvj\\desktop\\proyecto final\\backend\\.venv\\lib\\site-packages (from transformers[torch]) (0.17.3)\n",
      "Requirement already satisfied: numpy>=1.17 in c:\\users\\andresvj\\desktop\\proyecto final\\backend\\.venv\\lib\\site-packages (from transformers[torch]) (1.26.0)\n",
      "Requirement already satisfied: packaging>=20.0 in c:\\users\\andresvj\\desktop\\proyecto final\\backend\\.venv\\lib\\site-packages (from transformers[torch]) (23.2)\n",
      "Requirement already satisfied: pyyaml>=5.1 in c:\\users\\andresvj\\desktop\\proyecto final\\backend\\.venv\\lib\\site-packages (from transformers[torch]) (6.0.1)\n",
      "Requirement already satisfied: regex!=2019.12.17 in c:\\users\\andresvj\\desktop\\proyecto final\\backend\\.venv\\lib\\site-packages (from transformers[torch]) (2023.8.8)\n",
      "Requirement already satisfied: requests in c:\\users\\andresvj\\desktop\\proyecto final\\backend\\.venv\\lib\\site-packages (from transformers[torch]) (2.31.0)\n",
      "Requirement already satisfied: tokenizers!=0.11.3,<0.14,>=0.11.1 in c:\\users\\andresvj\\desktop\\proyecto final\\backend\\.venv\\lib\\site-packages (from transformers[torch]) (0.13.3)\n",
      "Requirement already satisfied: safetensors>=0.3.1 in c:\\users\\andresvj\\desktop\\proyecto final\\backend\\.venv\\lib\\site-packages (from transformers[torch]) (0.3.3)\n",
      "Requirement already satisfied: tqdm>=4.27 in c:\\users\\andresvj\\desktop\\proyecto final\\backend\\.venv\\lib\\site-packages (from transformers[torch]) (4.66.1)\n",
      "Requirement already satisfied: torch!=1.12.0,>=1.10 in c:\\users\\andresvj\\desktop\\proyecto final\\backend\\.venv\\lib\\site-packages (from transformers[torch]) (2.0.1)\n",
      "Collecting accelerate>=0.20.3 (from transformers[torch])\n",
      "  Obtaining dependency information for accelerate>=0.20.3 from https://files.pythonhosted.org/packages/d9/92/2d3aecf9f4a192968035880be3e2fc8b48d541c7128f7c936f430d6f96da/accelerate-0.23.0-py3-none-any.whl.metadata\n",
      "  Downloading accelerate-0.23.0-py3-none-any.whl.metadata (18 kB)\n",
      "Requirement already satisfied: psutil in c:\\users\\andresvj\\desktop\\proyecto final\\backend\\.venv\\lib\\site-packages (from accelerate>=0.20.3->transformers[torch]) (5.9.5)\n",
      "Requirement already satisfied: fsspec in c:\\users\\andresvj\\desktop\\proyecto final\\backend\\.venv\\lib\\site-packages (from huggingface-hub<1.0,>=0.15.1->transformers[torch]) (2023.9.2)\n",
      "Requirement already satisfied: typing-extensions>=3.7.4.3 in c:\\users\\andresvj\\desktop\\proyecto final\\backend\\.venv\\lib\\site-packages (from huggingface-hub<1.0,>=0.15.1->transformers[torch]) (4.8.0)\n",
      "Requirement already satisfied: sympy in c:\\users\\andresvj\\desktop\\proyecto final\\backend\\.venv\\lib\\site-packages (from torch!=1.12.0,>=1.10->transformers[torch]) (1.12)\n",
      "Requirement already satisfied: networkx in c:\\users\\andresvj\\desktop\\proyecto final\\backend\\.venv\\lib\\site-packages (from torch!=1.12.0,>=1.10->transformers[torch]) (3.1)\n",
      "Requirement already satisfied: jinja2 in c:\\users\\andresvj\\desktop\\proyecto final\\backend\\.venv\\lib\\site-packages (from torch!=1.12.0,>=1.10->transformers[torch]) (3.1.2)\n",
      "Requirement already satisfied: colorama in c:\\users\\andresvj\\desktop\\proyecto final\\backend\\.venv\\lib\\site-packages (from tqdm>=4.27->transformers[torch]) (0.4.6)\n",
      "Requirement already satisfied: charset-normalizer<4,>=2 in c:\\users\\andresvj\\desktop\\proyecto final\\backend\\.venv\\lib\\site-packages (from requests->transformers[torch]) (3.3.0)\n",
      "Requirement already satisfied: idna<4,>=2.5 in c:\\users\\andresvj\\desktop\\proyecto final\\backend\\.venv\\lib\\site-packages (from requests->transformers[torch]) (3.4)\n",
      "Requirement already satisfied: urllib3<3,>=1.21.1 in c:\\users\\andresvj\\desktop\\proyecto final\\backend\\.venv\\lib\\site-packages (from requests->transformers[torch]) (2.0.6)\n",
      "Requirement already satisfied: certifi>=2017.4.17 in c:\\users\\andresvj\\desktop\\proyecto final\\backend\\.venv\\lib\\site-packages (from requests->transformers[torch]) (2023.7.22)\n",
      "Requirement already satisfied: MarkupSafe>=2.0 in c:\\users\\andresvj\\desktop\\proyecto final\\backend\\.venv\\lib\\site-packages (from jinja2->torch!=1.12.0,>=1.10->transformers[torch]) (2.1.3)\n",
      "Requirement already satisfied: mpmath>=0.19 in c:\\users\\andresvj\\desktop\\proyecto final\\backend\\.venv\\lib\\site-packages (from sympy->torch!=1.12.0,>=1.10->transformers[torch]) (1.3.0)\n",
      "Downloading accelerate-0.23.0-py3-none-any.whl (258 kB)\n",
      "   ---------------------------------------- 0.0/258.1 kB ? eta -:--:--\n",
      "   ---------------------------------------- 258.1/258.1 kB 8.0 MB/s eta 0:00:00\n",
      "Using cached transformers-4.33.3-py3-none-any.whl (7.6 MB)\n",
      "Installing collected packages: transformers, accelerate\n",
      "Successfully installed accelerate-0.23.0 transformers-4.33.3\n"
     ]
    }
   ],
   "source": [
    "!pip install transformers[torch]"
   ]
  },
  {
   "cell_type": "code",
   "execution_count": 11,
   "metadata": {},
   "outputs": [
    {
     "data": {
      "text/html": [
       "<div>\n",
       "<style scoped>\n",
       "    .dataframe tbody tr th:only-of-type {\n",
       "        vertical-align: middle;\n",
       "    }\n",
       "\n",
       "    .dataframe tbody tr th {\n",
       "        vertical-align: top;\n",
       "    }\n",
       "\n",
       "    .dataframe thead th {\n",
       "        text-align: right;\n",
       "    }\n",
       "</style>\n",
       "<table border=\"1\" class=\"dataframe\">\n",
       "  <thead>\n",
       "    <tr style=\"text-align: right;\">\n",
       "      <th></th>\n",
       "      <th>Unnamed: 0</th>\n",
       "      <th>website_url</th>\n",
       "      <th>cleaned_website_text</th>\n",
       "      <th>Category</th>\n",
       "    </tr>\n",
       "  </thead>\n",
       "  <tbody>\n",
       "    <tr>\n",
       "      <th>0</th>\n",
       "      <td>0</td>\n",
       "      <td>https://www.booking.com/index.html?aid=1743217</td>\n",
       "      <td>official site good hotel accommodation big sav...</td>\n",
       "      <td>Travel</td>\n",
       "    </tr>\n",
       "    <tr>\n",
       "      <th>1</th>\n",
       "      <td>1</td>\n",
       "      <td>https://travelsites.com/expedia/</td>\n",
       "      <td>expedia hotel book sites like use vacation wor...</td>\n",
       "      <td>Travel</td>\n",
       "    </tr>\n",
       "    <tr>\n",
       "      <th>2</th>\n",
       "      <td>2</td>\n",
       "      <td>https://travelsites.com/tripadvisor/</td>\n",
       "      <td>tripadvisor hotel book sites like previously d...</td>\n",
       "      <td>Travel</td>\n",
       "    </tr>\n",
       "    <tr>\n",
       "      <th>3</th>\n",
       "      <td>3</td>\n",
       "      <td>https://www.momondo.in/?ispredir=true</td>\n",
       "      <td>cheap flights search compare flights momondo f...</td>\n",
       "      <td>Travel</td>\n",
       "    </tr>\n",
       "    <tr>\n",
       "      <th>4</th>\n",
       "      <td>4</td>\n",
       "      <td>https://www.ebookers.com/?AFFCID=EBOOKERS-UK.n...</td>\n",
       "      <td>bot create free account create free account si...</td>\n",
       "      <td>Travel</td>\n",
       "    </tr>\n",
       "  </tbody>\n",
       "</table>\n",
       "</div>"
      ],
      "text/plain": [
       "   Unnamed: 0                                        website_url  \\\n",
       "0           0     https://www.booking.com/index.html?aid=1743217   \n",
       "1           1                   https://travelsites.com/expedia/   \n",
       "2           2               https://travelsites.com/tripadvisor/   \n",
       "3           3              https://www.momondo.in/?ispredir=true   \n",
       "4           4  https://www.ebookers.com/?AFFCID=EBOOKERS-UK.n...   \n",
       "\n",
       "                                cleaned_website_text Category  \n",
       "0  official site good hotel accommodation big sav...   Travel  \n",
       "1  expedia hotel book sites like use vacation wor...   Travel  \n",
       "2  tripadvisor hotel book sites like previously d...   Travel  \n",
       "3  cheap flights search compare flights momondo f...   Travel  \n",
       "4  bot create free account create free account si...   Travel  "
      ]
     },
     "execution_count": 11,
     "metadata": {},
     "output_type": "execute_result"
    }
   ],
   "source": [
    "dataset=pd.read_csv('website_classification.csv')\n",
    "dataset.head()\n"
   ]
  },
  {
   "cell_type": "code",
   "execution_count": 12,
   "metadata": {},
   "outputs": [
    {
     "data": {
      "text/html": [
       "<div>\n",
       "<style scoped>\n",
       "    .dataframe tbody tr th:only-of-type {\n",
       "        vertical-align: middle;\n",
       "    }\n",
       "\n",
       "    .dataframe tbody tr th {\n",
       "        vertical-align: top;\n",
       "    }\n",
       "\n",
       "    .dataframe thead th {\n",
       "        text-align: right;\n",
       "    }\n",
       "</style>\n",
       "<table border=\"1\" class=\"dataframe\">\n",
       "  <thead>\n",
       "    <tr style=\"text-align: right;\">\n",
       "      <th></th>\n",
       "      <th>website_url</th>\n",
       "      <th>Category</th>\n",
       "    </tr>\n",
       "  </thead>\n",
       "  <tbody>\n",
       "    <tr>\n",
       "      <th>0</th>\n",
       "      <td>https://www.booking.com/index.html?aid=1743217</td>\n",
       "      <td>Travel</td>\n",
       "    </tr>\n",
       "    <tr>\n",
       "      <th>1</th>\n",
       "      <td>https://travelsites.com/expedia/</td>\n",
       "      <td>Travel</td>\n",
       "    </tr>\n",
       "    <tr>\n",
       "      <th>2</th>\n",
       "      <td>https://travelsites.com/tripadvisor/</td>\n",
       "      <td>Travel</td>\n",
       "    </tr>\n",
       "    <tr>\n",
       "      <th>3</th>\n",
       "      <td>https://www.momondo.in/?ispredir=true</td>\n",
       "      <td>Travel</td>\n",
       "    </tr>\n",
       "    <tr>\n",
       "      <th>4</th>\n",
       "      <td>https://www.ebookers.com/?AFFCID=EBOOKERS-UK.n...</td>\n",
       "      <td>Travel</td>\n",
       "    </tr>\n",
       "    <tr>\n",
       "      <th>...</th>\n",
       "      <td>...</td>\n",
       "      <td>...</td>\n",
       "    </tr>\n",
       "    <tr>\n",
       "      <th>1403</th>\n",
       "      <td>http://www.oldwomen.org/</td>\n",
       "      <td>Adult</td>\n",
       "    </tr>\n",
       "    <tr>\n",
       "      <th>1404</th>\n",
       "      <td>http://www.webcamslave.com</td>\n",
       "      <td>Adult</td>\n",
       "    </tr>\n",
       "    <tr>\n",
       "      <th>1405</th>\n",
       "      <td>http://www.buyeuroporn.com/</td>\n",
       "      <td>Adult</td>\n",
       "    </tr>\n",
       "    <tr>\n",
       "      <th>1406</th>\n",
       "      <td>http://www.analdreamhouse.com/30/03/agecheck/i...</td>\n",
       "      <td>Adult</td>\n",
       "    </tr>\n",
       "    <tr>\n",
       "      <th>1407</th>\n",
       "      <td>http://www.world-sex-news.com/</td>\n",
       "      <td>Adult</td>\n",
       "    </tr>\n",
       "  </tbody>\n",
       "</table>\n",
       "<p>1408 rows × 2 columns</p>\n",
       "</div>"
      ],
      "text/plain": [
       "                                            website_url Category\n",
       "0        https://www.booking.com/index.html?aid=1743217   Travel\n",
       "1                      https://travelsites.com/expedia/   Travel\n",
       "2                  https://travelsites.com/tripadvisor/   Travel\n",
       "3                 https://www.momondo.in/?ispredir=true   Travel\n",
       "4     https://www.ebookers.com/?AFFCID=EBOOKERS-UK.n...   Travel\n",
       "...                                                 ...      ...\n",
       "1403                           http://www.oldwomen.org/    Adult\n",
       "1404                         http://www.webcamslave.com    Adult\n",
       "1405                        http://www.buyeuroporn.com/    Adult\n",
       "1406  http://www.analdreamhouse.com/30/03/agecheck/i...    Adult\n",
       "1407                     http://www.world-sex-news.com/    Adult\n",
       "\n",
       "[1408 rows x 2 columns]"
      ]
     },
     "execution_count": 12,
     "metadata": {},
     "output_type": "execute_result"
    }
   ],
   "source": [
    "website= dataset[['website_url','Category']]\n",
    "website"
   ]
  },
  {
   "cell_type": "code",
   "execution_count": 13,
   "metadata": {},
   "outputs": [
    {
     "data": {
      "image/png": "[encoded data removed]",
      "text/plain": [
       "<Figure size 1200x1000 with 1 Axes>"
      ]
     },
     "metadata": {},
     "output_type": "display_data"
    }
   ],
   "source": [
    "plt.figure(figsize=(12,10))\n",
    "plt.title('Category vs Counts')\n",
    "website_category= pd.DataFrame(website.groupby('Category').size(),columns=['Count'])\n",
    "plt.barh(width=website_category['Count'],y=website_category.index)\n",
    "plt.show()"
   ]
  },
  {
   "cell_type": "code",
   "execution_count": 14,
   "metadata": {},
   "outputs": [
    {
     "data": {
      "text/plain": [
       "Category\n",
       "Education                          114\n",
       "Business/Corporate                 109\n",
       "Travel                             107\n",
       "Streaming Services                 105\n",
       "Sports                             104\n",
       "E-Commerce                         102\n",
       "Games                               98\n",
       "News                                96\n",
       "Health and Fitness                  96\n",
       "Photography                         93\n",
       "Computers and Technology            93\n",
       "Food                                92\n",
       "Law and Government                  84\n",
       "Social Networking and Messaging     83\n",
       "Forums                              16\n",
       "Adult                               16\n",
       "Name: count, dtype: int64"
      ]
     },
     "execution_count": 14,
     "metadata": {},
     "output_type": "execute_result"
    }
   ],
   "source": [
    "dataset['Category'].value_counts()"
   ]
  },
  {
   "cell_type": "markdown",
   "metadata": {},
   "source": [
    "## SVC"
   ]
  },
  {
   "cell_type": "code",
   "execution_count": 15,
   "metadata": {},
   "outputs": [],
   "source": [
    "X = dataset['cleaned_website_text']\n",
    "y = dataset['Category']"
   ]
  },
  {
   "cell_type": "code",
   "execution_count": 16,
   "metadata": {},
   "outputs": [
    {
     "data": {
      "text/html": [
       "<style>#sk-container-id-1 {color: black;}#sk-container-id-1 pre{padding: 0;}#sk-container-id-1 div.sk-toggleable {background-color: white;}#sk-container-id-1 label.sk-toggleable__label {cursor: pointer;display: block;width: 100%;margin-bottom: 0;padding: 0.3em;box-sizing: border-box;text-align: center;}#sk-container-id-1 label.sk-toggleable__label-arrow:before {content: \"▸\";float: left;margin-right: 0.25em;color: #696969;}#sk-container-id-1 label.sk-toggleable__label-arrow:hover:before {color: black;}#sk-container-id-1 div.sk-estimator:hover label.sk-toggleable__label-arrow:before {color: black;}#sk-container-id-1 div.sk-toggleable__content {max-height: 0;max-width: 0;overflow: hidden;text-align: left;background-color: #f0f8ff;}#sk-container-id-1 div.sk-toggleable__content pre {margin: 0.2em;color: black;border-radius: 0.25em;background-color: #f0f8ff;}#sk-container-id-1 input.sk-toggleable__control:checked~div.sk-toggleable__content {max-height: 200px;max-width: 100%;overflow: auto;}#sk-container-id-1 input.sk-toggleable__control:checked~label.sk-toggleable__label-arrow:before {content: \"▾\";}#sk-container-id-1 div.sk-estimator input.sk-toggleable__control:checked~label.sk-toggleable__label {background-color: #d4ebff;}#sk-container-id-1 div.sk-label input.sk-toggleable__control:checked~label.sk-toggleable__label {background-color: #d4ebff;}#sk-container-id-1 input.sk-hidden--visually {border: 0;clip: rect(1px 1px 1px 1px);clip: rect(1px, 1px, 1px, 1px);height: 1px;margin: -1px;overflow: hidden;padding: 0;position: absolute;width: 1px;}#sk-container-id-1 div.sk-estimator {font-family: monospace;background-color: #f0f8ff;border: 1px dotted black;border-radius: 0.25em;box-sizing: border-box;margin-bottom: 0.5em;}#sk-container-id-1 div.sk-estimator:hover {background-color: #d4ebff;}#sk-container-id-1 div.sk-parallel-item::after {content: \"\";width: 100%;border-bottom: 1px solid gray;flex-grow: 1;}#sk-container-id-1 div.sk-label:hover label.sk-toggleable__label {background-color: #d4ebff;}#sk-container-id-1 div.sk-serial::before {content: \"\";position: absolute;border-left: 1px solid gray;box-sizing: border-box;top: 0;bottom: 0;left: 50%;z-index: 0;}#sk-container-id-1 div.sk-serial {display: flex;flex-direction: column;align-items: center;background-color: white;padding-right: 0.2em;padding-left: 0.2em;position: relative;}#sk-container-id-1 div.sk-item {position: relative;z-index: 1;}#sk-container-id-1 div.sk-parallel {display: flex;align-items: stretch;justify-content: center;background-color: white;position: relative;}#sk-container-id-1 div.sk-item::before, #sk-container-id-1 div.sk-parallel-item::before {content: \"\";position: absolute;border-left: 1px solid gray;box-sizing: border-box;top: 0;bottom: 0;left: 50%;z-index: -1;}#sk-container-id-1 div.sk-parallel-item {display: flex;flex-direction: column;z-index: 1;position: relative;background-color: white;}#sk-container-id-1 div.sk-parallel-item:first-child::after {align-self: flex-end;width: 50%;}#sk-container-id-1 div.sk-parallel-item:last-child::after {align-self: flex-start;width: 50%;}#sk-container-id-1 div.sk-parallel-item:only-child::after {width: 0;}#sk-container-id-1 div.sk-dashed-wrapped {border: 1px dashed gray;margin: 0 0.4em 0.5em 0.4em;box-sizing: border-box;padding-bottom: 0.4em;background-color: white;}#sk-container-id-1 div.sk-label label {font-family: monospace;font-weight: bold;display: inline-block;line-height: 1.2em;}#sk-container-id-1 div.sk-label-container {text-align: center;}#sk-container-id-1 div.sk-container {/* jupyter's `normalize.less` sets `[hidden] { display: none; }` but bootstrap.min.css set `[hidden] { display: none !important; }` so we also need the `!important` here to be able to override the default hidden behavior on the sphinx rendered scikit-learn.org. See: https://github.com/scikit-learn/scikit-learn/issues/21755 */display: inline-block !important;position: relative;}#sk-container-id-1 div.sk-text-repr-fallback {display: none;}</style><div id=\"sk-container-id-1\" class=\"sk-top-container\"><div class=\"sk-text-repr-fallback\"><pre>LabelEncoder()</pre><b>In a Jupyter environment, please rerun this cell to show the HTML representation or trust the notebook. <br />On GitHub, the HTML representation is unable to render, please try loading this page with nbviewer.org.</b></div><div class=\"sk-container\" hidden><div class=\"sk-item\"><div class=\"sk-estimator sk-toggleable\"><input class=\"sk-toggleable__control sk-hidden--visually\" id=\"sk-estimator-id-1\" type=\"checkbox\" checked><label for=\"sk-estimator-id-1\" class=\"sk-toggleable__label sk-toggleable__label-arrow\">LabelEncoder</label><div class=\"sk-toggleable__content\"><pre>LabelEncoder()</pre></div></div></div></div></div>"
      ],
      "text/plain": [
       "LabelEncoder()"
      ]
     },
     "execution_count": 16,
     "metadata": {},
     "output_type": "execute_result"
    }
   ],
   "source": [
    "labelEnc =  LabelEncoder()\n",
    "labelEnc.fit(y)"
   ]
  },
  {
   "cell_type": "code",
   "execution_count": 17,
   "metadata": {},
   "outputs": [],
   "source": [
    "labelEnc.classes_\n",
    "clases=labelEnc.classes_"
   ]
  },
  {
   "cell_type": "code",
   "execution_count": 18,
   "metadata": {},
   "outputs": [
    {
     "data": {
      "text/plain": [
       "array([15, 15, 15, ...,  0,  0,  0])"
      ]
     },
     "execution_count": 18,
     "metadata": {},
     "output_type": "execute_result"
    }
   ],
   "source": [
    "y = labelEnc.transform(y)\n",
    "y"
   ]
  },
  {
   "cell_type": "code",
   "execution_count": 19,
   "metadata": {},
   "outputs": [],
   "source": [
    "X_train, X_test, y_train, y_test = train_test_split(X, y, test_size=0.33, random_state=42)"
   ]
  },
  {
   "cell_type": "code",
   "execution_count": 20,
   "metadata": {},
   "outputs": [
    {
     "data": {
      "text/plain": [
       "str"
      ]
     },
     "execution_count": 20,
     "metadata": {},
     "output_type": "execute_result"
    }
   ],
   "source": [
    "type(X_train[0])"
   ]
  },
  {
   "cell_type": "code",
   "execution_count": 21,
   "metadata": {},
   "outputs": [
    {
     "name": "stderr",
     "output_type": "stream",
     "text": [
      "c:\\Users\\AndresVJ\\Desktop\\proyecto final\\backend\\.venv\\Lib\\site-packages\\sklearn\\svm\\_classes.py:32: FutureWarning: The default value of `dual` will change from `True` to `'auto'` in 1.5. Set the value of `dual` explicitly to suppress the warning.\n",
      "  warnings.warn(\n"
     ]
    },
    {
     "data": {
      "text/html": [
       "<style>#sk-container-id-2 {color: black;}#sk-container-id-2 pre{padding: 0;}#sk-container-id-2 div.sk-toggleable {background-color: white;}#sk-container-id-2 label.sk-toggleable__label {cursor: pointer;display: block;width: 100%;margin-bottom: 0;padding: 0.3em;box-sizing: border-box;text-align: center;}#sk-container-id-2 label.sk-toggleable__label-arrow:before {content: \"▸\";float: left;margin-right: 0.25em;color: #696969;}#sk-container-id-2 label.sk-toggleable__label-arrow:hover:before {color: black;}#sk-container-id-2 div.sk-estimator:hover label.sk-toggleable__label-arrow:before {color: black;}#sk-container-id-2 div.sk-toggleable__content {max-height: 0;max-width: 0;overflow: hidden;text-align: left;background-color: #f0f8ff;}#sk-container-id-2 div.sk-toggleable__content pre {margin: 0.2em;color: black;border-radius: 0.25em;background-color: #f0f8ff;}#sk-container-id-2 input.sk-toggleable__control:checked~div.sk-toggleable__content {max-height: 200px;max-width: 100%;overflow: auto;}#sk-container-id-2 input.sk-toggleable__control:checked~label.sk-toggleable__label-arrow:before {content: \"▾\";}#sk-container-id-2 div.sk-estimator input.sk-toggleable__control:checked~label.sk-toggleable__label {background-color: #d4ebff;}#sk-container-id-2 div.sk-label input.sk-toggleable__control:checked~label.sk-toggleable__label {background-color: #d4ebff;}#sk-container-id-2 input.sk-hidden--visually {border: 0;clip: rect(1px 1px 1px 1px);clip: rect(1px, 1px, 1px, 1px);height: 1px;margin: -1px;overflow: hidden;padding: 0;position: absolute;width: 1px;}#sk-container-id-2 div.sk-estimator {font-family: monospace;background-color: #f0f8ff;border: 1px dotted black;border-radius: 0.25em;box-sizing: border-box;margin-bottom: 0.5em;}#sk-container-id-2 div.sk-estimator:hover {background-color: #d4ebff;}#sk-container-id-2 div.sk-parallel-item::after {content: \"\";width: 100%;border-bottom: 1px solid gray;flex-grow: 1;}#sk-container-id-2 div.sk-label:hover label.sk-toggleable__label {background-color: #d4ebff;}#sk-container-id-2 div.sk-serial::before {content: \"\";position: absolute;border-left: 1px solid gray;box-sizing: border-box;top: 0;bottom: 0;left: 50%;z-index: 0;}#sk-container-id-2 div.sk-serial {display: flex;flex-direction: column;align-items: center;background-color: white;padding-right: 0.2em;padding-left: 0.2em;position: relative;}#sk-container-id-2 div.sk-item {position: relative;z-index: 1;}#sk-container-id-2 div.sk-parallel {display: flex;align-items: stretch;justify-content: center;background-color: white;position: relative;}#sk-container-id-2 div.sk-item::before, #sk-container-id-2 div.sk-parallel-item::before {content: \"\";position: absolute;border-left: 1px solid gray;box-sizing: border-box;top: 0;bottom: 0;left: 50%;z-index: -1;}#sk-container-id-2 div.sk-parallel-item {display: flex;flex-direction: column;z-index: 1;position: relative;background-color: white;}#sk-container-id-2 div.sk-parallel-item:first-child::after {align-self: flex-end;width: 50%;}#sk-container-id-2 div.sk-parallel-item:last-child::after {align-self: flex-start;width: 50%;}#sk-container-id-2 div.sk-parallel-item:only-child::after {width: 0;}#sk-container-id-2 div.sk-dashed-wrapped {border: 1px dashed gray;margin: 0 0.4em 0.5em 0.4em;box-sizing: border-box;padding-bottom: 0.4em;background-color: white;}#sk-container-id-2 div.sk-label label {font-family: monospace;font-weight: bold;display: inline-block;line-height: 1.2em;}#sk-container-id-2 div.sk-label-container {text-align: center;}#sk-container-id-2 div.sk-container {/* jupyter's `normalize.less` sets `[hidden] { display: none; }` but bootstrap.min.css set `[hidden] { display: none !important; }` so we also need the `!important` here to be able to override the default hidden behavior on the sphinx rendered scikit-learn.org. See: https://github.com/scikit-learn/scikit-learn/issues/21755 */display: inline-block !important;position: relative;}#sk-container-id-2 div.sk-text-repr-fallback {display: none;}</style><div id=\"sk-container-id-2\" class=\"sk-top-container\"><div class=\"sk-text-repr-fallback\"><pre>Pipeline(steps=[(&#x27;tfidf&#x27;, TfidfVectorizer()), (&#x27;clf&#x27;, LinearSVC())])</pre><b>In a Jupyter environment, please rerun this cell to show the HTML representation or trust the notebook. <br />On GitHub, the HTML representation is unable to render, please try loading this page with nbviewer.org.</b></div><div class=\"sk-container\" hidden><div class=\"sk-item sk-dashed-wrapped\"><div class=\"sk-label-container\"><div class=\"sk-label sk-toggleable\"><input class=\"sk-toggleable__control sk-hidden--visually\" id=\"sk-estimator-id-2\" type=\"checkbox\" ><label for=\"sk-estimator-id-2\" class=\"sk-toggleable__label sk-toggleable__label-arrow\">Pipeline</label><div class=\"sk-toggleable__content\"><pre>Pipeline(steps=[(&#x27;tfidf&#x27;, TfidfVectorizer()), (&#x27;clf&#x27;, LinearSVC())])</pre></div></div></div><div class=\"sk-serial\"><div class=\"sk-item\"><div class=\"sk-estimator sk-toggleable\"><input class=\"sk-toggleable__control sk-hidden--visually\" id=\"sk-estimator-id-3\" type=\"checkbox\" ><label for=\"sk-estimator-id-3\" class=\"sk-toggleable__label sk-toggleable__label-arrow\">TfidfVectorizer</label><div class=\"sk-toggleable__content\"><pre>TfidfVectorizer()</pre></div></div></div><div class=\"sk-item\"><div class=\"sk-estimator sk-toggleable\"><input class=\"sk-toggleable__control sk-hidden--visually\" id=\"sk-estimator-id-4\" type=\"checkbox\" ><label for=\"sk-estimator-id-4\" class=\"sk-toggleable__label sk-toggleable__label-arrow\">LinearSVC</label><div class=\"sk-toggleable__content\"><pre>LinearSVC()</pre></div></div></div></div></div></div></div>"
      ],
      "text/plain": [
       "Pipeline(steps=[('tfidf', TfidfVectorizer()), ('clf', LinearSVC())])"
      ]
     },
     "execution_count": 21,
     "metadata": {},
     "output_type": "execute_result"
    }
   ],
   "source": [
    "text_clf = Pipeline([('tfidf', TfidfVectorizer()), ('clf', LinearSVC())])\n",
    "\n",
    "text_clf.fit(X_train, y_train)"
   ]
  },
  {
   "cell_type": "code",
   "execution_count": 22,
   "metadata": {},
   "outputs": [],
   "source": [
    "predictions = text_clf.predict(X_test)"
   ]
  },
  {
   "cell_type": "code",
   "execution_count": 23,
   "metadata": {},
   "outputs": [
    {
     "name": "stdout",
     "output_type": "stream",
     "text": [
      "[[ 5  0  0  0  0  0  0  0  0  0  0  0  0  0  1  0]\n",
      " [ 0 35  1  3  0  0  0  0  1  0  0  0  0  0  0  0]\n",
      " [ 0  1 22  1  0  0  0  1  0  0  0  0  0  0  0  0]\n",
      " [ 0  1  0 32  0  0  0  1  0  0  0  0  0  0  2  0]\n",
      " [ 0  1  0  0 43  1  0  0  0  0  0  0  0  0  0  0]\n",
      " [ 0  0  0  0  0 29  0  0  0  0  0  0  0  1  0  0]\n",
      " [ 0  0  2  0  1  0  1  0  0  0  0  0  0  0  0  0]\n",
      " [ 0  0  2  0  0  0  0 30  0  0  0  0  0  0  0  1]\n",
      " [ 0  0  0  0  0  0  0  0 23  0  0  0  0  0  0  0]\n",
      " [ 0  1  0  0  0  0  0  0  0 28  0  0  0  0  0  0]\n",
      " [ 0  0  1  0  0  0  0  0  0  0 35  0  0  0  0  0]\n",
      " [ 0  0  1  0  0  0  0  0  0  0  1 31  0  0  0  0]\n",
      " [ 0  0  1  0  1  1  0  0  0  0  0  1 23  0  1  1]\n",
      " [ 0  1  0  0  0  0  0  0  0  0  0  0  0 38  0  0]\n",
      " [ 0  0  0  0  0  0  0  0  0  0  0  0  0  0 31  0]\n",
      " [ 0  0  0  0  0  0  0  0  0  0  0  0  0  1  0 25]]\n"
     ]
    }
   ],
   "source": [
    "print(confusion_matrix(y_test, predictions))"
   ]
  },
  {
   "cell_type": "code",
   "execution_count": 24,
   "metadata": {},
   "outputs": [
    {
     "name": "stdout",
     "output_type": "stream",
     "text": [
      "              precision    recall  f1-score   support\n",
      "\n",
      "           0       1.00      0.83      0.91         6\n",
      "           1       0.88      0.88      0.88        40\n",
      "           2       0.73      0.88      0.80        25\n",
      "           3       0.89      0.89      0.89        36\n",
      "           4       0.96      0.96      0.96        45\n",
      "           5       0.94      0.97      0.95        30\n",
      "           6       1.00      0.25      0.40         4\n",
      "           7       0.94      0.91      0.92        33\n",
      "           8       0.96      1.00      0.98        23\n",
      "           9       1.00      0.97      0.98        29\n",
      "          10       0.97      0.97      0.97        36\n",
      "          11       0.97      0.94      0.95        33\n",
      "          12       1.00      0.79      0.88        29\n",
      "          13       0.95      0.97      0.96        39\n",
      "          14       0.89      1.00      0.94        31\n",
      "          15       0.93      0.96      0.94        26\n",
      "\n",
      "    accuracy                           0.93       465\n",
      "   macro avg       0.94      0.89      0.89       465\n",
      "weighted avg       0.93      0.93      0.93       465\n",
      "\n"
     ]
    }
   ],
   "source": [
    "print(classification_report(y_test, predictions))"
   ]
  },
  {
   "cell_type": "markdown",
   "metadata": {},
   "source": [
    "## Naive Bayes"
   ]
  },
  {
   "cell_type": "code",
   "execution_count": 17,
   "metadata": {},
   "outputs": [],
   "source": [
    "from sklearn import feature_extraction\n",
    "from sklearn.metrics import confusion_matrix\n",
    "from sklearn import model_selection as ms\n",
    "from sklearn import naive_bayes\n",
    "from sklearn import preprocessing"
   ]
  },
  {
   "cell_type": "code",
   "execution_count": 18,
   "metadata": {},
   "outputs": [
    {
     "data": {
      "text/plain": [
       "(1408, 60031)"
      ]
     },
     "execution_count": 18,
     "metadata": {},
     "output_type": "execute_result"
    }
   ],
   "source": [
    "counts = feature_extraction.text.CountVectorizer()\n",
    "X = counts.fit_transform(dataset['cleaned_website_text'].values)\n",
    "X.shape"
   ]
  },
  {
   "cell_type": "code",
   "execution_count": 20,
   "metadata": {},
   "outputs": [
    {
     "data": {
      "text/plain": [
       "array(['Travel', 'Travel', 'Travel', ..., 'Adult', 'Adult', 'Adult'],\n",
       "      dtype=object)"
      ]
     },
     "execution_count": 20,
     "metadata": {},
     "output_type": "execute_result"
    }
   ],
   "source": [
    "y = dataset['Category'].values\n",
    "y"
   ]
  },
  {
   "cell_type": "code",
   "execution_count": 21,
   "metadata": {},
   "outputs": [],
   "source": [
    "X_train, X_test, y_train, y_test = ms.train_test_split(X, y, test_size=0.2, random_state=42)"
   ]
  },
  {
   "cell_type": "code",
   "execution_count": 22,
   "metadata": {},
   "outputs": [
    {
     "data": {
      "text/html": [
       "<style>#sk-container-id-3 {color: black;}#sk-container-id-3 pre{padding: 0;}#sk-container-id-3 div.sk-toggleable {background-color: white;}#sk-container-id-3 label.sk-toggleable__label {cursor: pointer;display: block;width: 100%;margin-bottom: 0;padding: 0.3em;box-sizing: border-box;text-align: center;}#sk-container-id-3 label.sk-toggleable__label-arrow:before {content: \"▸\";float: left;margin-right: 0.25em;color: #696969;}#sk-container-id-3 label.sk-toggleable__label-arrow:hover:before {color: black;}#sk-container-id-3 div.sk-estimator:hover label.sk-toggleable__label-arrow:before {color: black;}#sk-container-id-3 div.sk-toggleable__content {max-height: 0;max-width: 0;overflow: hidden;text-align: left;background-color: #f0f8ff;}#sk-container-id-3 div.sk-toggleable__content pre {margin: 0.2em;color: black;border-radius: 0.25em;background-color: #f0f8ff;}#sk-container-id-3 input.sk-toggleable__control:checked~div.sk-toggleable__content {max-height: 200px;max-width: 100%;overflow: auto;}#sk-container-id-3 input.sk-toggleable__control:checked~label.sk-toggleable__label-arrow:before {content: \"▾\";}#sk-container-id-3 div.sk-estimator input.sk-toggleable__control:checked~label.sk-toggleable__label {background-color: #d4ebff;}#sk-container-id-3 div.sk-label input.sk-toggleable__control:checked~label.sk-toggleable__label {background-color: #d4ebff;}#sk-container-id-3 input.sk-hidden--visually {border: 0;clip: rect(1px 1px 1px 1px);clip: rect(1px, 1px, 1px, 1px);height: 1px;margin: -1px;overflow: hidden;padding: 0;position: absolute;width: 1px;}#sk-container-id-3 div.sk-estimator {font-family: monospace;background-color: #f0f8ff;border: 1px dotted black;border-radius: 0.25em;box-sizing: border-box;margin-bottom: 0.5em;}#sk-container-id-3 div.sk-estimator:hover {background-color: #d4ebff;}#sk-container-id-3 div.sk-parallel-item::after {content: \"\";width: 100%;border-bottom: 1px solid gray;flex-grow: 1;}#sk-container-id-3 div.sk-label:hover label.sk-toggleable__label {background-color: #d4ebff;}#sk-container-id-3 div.sk-serial::before {content: \"\";position: absolute;border-left: 1px solid gray;box-sizing: border-box;top: 0;bottom: 0;left: 50%;z-index: 0;}#sk-container-id-3 div.sk-serial {display: flex;flex-direction: column;align-items: center;background-color: white;padding-right: 0.2em;padding-left: 0.2em;position: relative;}#sk-container-id-3 div.sk-item {position: relative;z-index: 1;}#sk-container-id-3 div.sk-parallel {display: flex;align-items: stretch;justify-content: center;background-color: white;position: relative;}#sk-container-id-3 div.sk-item::before, #sk-container-id-3 div.sk-parallel-item::before {content: \"\";position: absolute;border-left: 1px solid gray;box-sizing: border-box;top: 0;bottom: 0;left: 50%;z-index: -1;}#sk-container-id-3 div.sk-parallel-item {display: flex;flex-direction: column;z-index: 1;position: relative;background-color: white;}#sk-container-id-3 div.sk-parallel-item:first-child::after {align-self: flex-end;width: 50%;}#sk-container-id-3 div.sk-parallel-item:last-child::after {align-self: flex-start;width: 50%;}#sk-container-id-3 div.sk-parallel-item:only-child::after {width: 0;}#sk-container-id-3 div.sk-dashed-wrapped {border: 1px dashed gray;margin: 0 0.4em 0.5em 0.4em;box-sizing: border-box;padding-bottom: 0.4em;background-color: white;}#sk-container-id-3 div.sk-label label {font-family: monospace;font-weight: bold;display: inline-block;line-height: 1.2em;}#sk-container-id-3 div.sk-label-container {text-align: center;}#sk-container-id-3 div.sk-container {/* jupyter's `normalize.less` sets `[hidden] { display: none; }` but bootstrap.min.css set `[hidden] { display: none !important; }` so we also need the `!important` here to be able to override the default hidden behavior on the sphinx rendered scikit-learn.org. See: https://github.com/scikit-learn/scikit-learn/issues/21755 */display: inline-block !important;position: relative;}#sk-container-id-3 div.sk-text-repr-fallback {display: none;}</style><div id=\"sk-container-id-3\" class=\"sk-top-container\"><div class=\"sk-text-repr-fallback\"><pre>MultinomialNB()</pre><b>In a Jupyter environment, please rerun this cell to show the HTML representation or trust the notebook. <br />On GitHub, the HTML representation is unable to render, please try loading this page with nbviewer.org.</b></div><div class=\"sk-container\" hidden><div class=\"sk-item\"><div class=\"sk-estimator sk-toggleable\"><input class=\"sk-toggleable__control sk-hidden--visually\" id=\"sk-estimator-id-5\" type=\"checkbox\" checked><label for=\"sk-estimator-id-5\" class=\"sk-toggleable__label sk-toggleable__label-arrow\">MultinomialNB</label><div class=\"sk-toggleable__content\"><pre>MultinomialNB()</pre></div></div></div></div></div>"
      ],
      "text/plain": [
       "MultinomialNB()"
      ]
     },
     "execution_count": 22,
     "metadata": {},
     "output_type": "execute_result"
    }
   ],
   "source": [
    "model_naive = naive_bayes.MultinomialNB()\n",
    "model_naive.fit(X_train, y_train)"
   ]
  },
  {
   "cell_type": "code",
   "execution_count": 23,
   "metadata": {},
   "outputs": [
    {
     "data": {
      "text/plain": [
       "0.9822380106571936"
      ]
     },
     "execution_count": 23,
     "metadata": {},
     "output_type": "execute_result"
    }
   ],
   "source": [
    "model_naive.score(X_train, y_train)"
   ]
  },
  {
   "cell_type": "code",
   "execution_count": 24,
   "metadata": {},
   "outputs": [
    {
     "data": {
      "text/plain": [
       "0.875886524822695"
      ]
     },
     "execution_count": 24,
     "metadata": {},
     "output_type": "execute_result"
    }
   ],
   "source": [
    "model_naive.score(X_test, y_test)"
   ]
  },
  {
   "cell_type": "code",
   "execution_count": 25,
   "metadata": {},
   "outputs": [
    {
     "data": {
      "text/plain": [
       "array([[ 4,  0,  0,  0,  0,  0,  0,  0,  0,  0,  0,  0,  0,  0,  0,  0],\n",
       "       [ 0, 13,  0,  1,  1,  0,  0,  0,  0,  0,  2,  0,  0,  0,  0,  0],\n",
       "       [ 0,  2, 14,  0,  1,  0,  0,  1,  0,  0,  1,  0,  0,  0,  0,  0],\n",
       "       [ 0,  0,  0, 22,  0,  0,  0,  0,  0,  0,  0,  0,  0,  0,  0,  0],\n",
       "       [ 0,  4,  0,  0, 22,  0,  0,  0,  1,  0,  0,  0,  0,  0,  0,  0],\n",
       "       [ 0,  0,  0,  0,  0, 14,  0,  0,  0,  0,  1,  0,  0,  1,  0,  1],\n",
       "       [ 0,  0,  2,  0,  0,  0,  0,  0,  0,  0,  0,  0,  0,  0,  0,  0],\n",
       "       [ 0,  0,  1,  1,  0,  0,  0, 18,  0,  0,  1,  0,  0,  0,  0,  1],\n",
       "       [ 0,  0,  0,  0,  0,  0,  0,  0, 13,  0,  0,  0,  0,  0,  0,  0],\n",
       "       [ 0,  0,  0,  0,  0,  0,  0,  0,  0, 21,  2,  0,  0,  0,  0,  0],\n",
       "       [ 0,  0,  0,  0,  0,  0,  0,  0,  0,  0, 17,  0,  0,  0,  1,  0],\n",
       "       [ 0,  0,  0,  0,  0,  0,  0,  0,  0,  0,  2, 18,  0,  0,  0,  0],\n",
       "       [ 0,  0,  1,  0,  0,  1,  0,  0,  0,  0,  0,  1, 14,  0,  1,  0],\n",
       "       [ 0,  1,  0,  0,  0,  0,  0,  0,  0,  0,  0,  0,  0, 22,  0,  0],\n",
       "       [ 0,  0,  0,  0,  0,  0,  0,  0,  0,  0,  2,  0,  0,  0, 16,  0],\n",
       "       [ 0,  0,  0,  0,  0,  0,  0,  0,  0,  0,  0,  0,  0,  0,  0, 19]],\n",
       "      dtype=int64)"
      ]
     },
     "execution_count": 25,
     "metadata": {},
     "output_type": "execute_result"
    }
   ],
   "source": [
    "confusion_matrix(y_test, model_naive.predict(X_test))"
   ]
  },
  {
   "cell_type": "code",
   "execution_count": 27,
   "metadata": {},
   "outputs": [
    {
     "name": "stdout",
     "output_type": "stream",
     "text": [
      "                                 precision    recall  f1-score   support\n",
      "\n",
      "                          Adult       1.00      1.00      1.00         4\n",
      "             Business/Corporate       0.65      0.76      0.70        17\n",
      "       Computers and Technology       0.78      0.74      0.76        19\n",
      "                     E-Commerce       0.92      1.00      0.96        22\n",
      "                      Education       0.92      0.81      0.86        27\n",
      "                           Food       0.93      0.82      0.87        17\n",
      "                         Forums       0.00      0.00      0.00         2\n",
      "                          Games       0.95      0.82      0.88        22\n",
      "             Health and Fitness       0.93      1.00      0.96        13\n",
      "             Law and Government       1.00      0.91      0.95        23\n",
      "                           News       0.61      0.94      0.74        18\n",
      "                    Photography       0.95      0.90      0.92        20\n",
      "Social Networking and Messaging       1.00      0.78      0.88        18\n",
      "                         Sports       0.96      0.96      0.96        23\n",
      "             Streaming Services       0.89      0.89      0.89        18\n",
      "                         Travel       0.90      1.00      0.95        19\n",
      "\n",
      "                       accuracy                           0.88       282\n",
      "                      macro avg       0.84      0.83      0.83       282\n",
      "                   weighted avg       0.89      0.88      0.88       282\n",
      "\n"
     ]
    },
    {
     "name": "stderr",
     "output_type": "stream",
     "text": [
      "c:\\Users\\AndresVJ\\Desktop\\proyecto final\\backend\\.venv\\Lib\\site-packages\\sklearn\\metrics\\_classification.py:1469: UndefinedMetricWarning: Precision and F-score are ill-defined and being set to 0.0 in labels with no predicted samples. Use `zero_division` parameter to control this behavior.\n",
      "  _warn_prf(average, modifier, msg_start, len(result))\n",
      "c:\\Users\\AndresVJ\\Desktop\\proyecto final\\backend\\.venv\\Lib\\site-packages\\sklearn\\metrics\\_classification.py:1469: UndefinedMetricWarning: Precision and F-score are ill-defined and being set to 0.0 in labels with no predicted samples. Use `zero_division` parameter to control this behavior.\n",
      "  _warn_prf(average, modifier, msg_start, len(result))\n",
      "c:\\Users\\AndresVJ\\Desktop\\proyecto final\\backend\\.venv\\Lib\\site-packages\\sklearn\\metrics\\_classification.py:1469: UndefinedMetricWarning: Precision and F-score are ill-defined and being set to 0.0 in labels with no predicted samples. Use `zero_division` parameter to control this behavior.\n",
      "  _warn_prf(average, modifier, msg_start, len(result))\n"
     ]
    }
   ],
   "source": [
    "predictions = model_naive.predict(X_test)\n",
    "print(classification_report(y_test, predictions))"
   ]
  },
  {
   "cell_type": "code",
   "execution_count": 82,
   "metadata": {},
   "outputs": [],
   "source": [
    "predictions = text_clf.predict([texto])"
   ]
  },
  {
   "cell_type": "code",
   "execution_count": 83,
   "metadata": {},
   "outputs": [
    {
     "name": "stdout",
     "output_type": "stream",
     "text": [
      "[15]\n"
     ]
    }
   ],
   "source": [
    "print(predictions)"
   ]
  },
  {
   "cell_type": "code",
   "execution_count": 8,
   "metadata": {},
   "outputs": [
    {
     "ename": "NameError",
     "evalue": "name 'text_clf' is not defined",
     "output_type": "error",
     "traceback": [
      "\u001b[1;31m---------------------------------------------------------------------------\u001b[0m",
      "\u001b[1;31mNameError\u001b[0m                                 Traceback (most recent call last)",
      "\u001b[1;32mc:\\Users\\AndresVJ\\Desktop\\proyecto final\\backend\\modelo.ipynb Cell 31\u001b[0m line \u001b[0;36m1\n\u001b[1;32m----> <a href='vscode-notebook-cell:/c%3A/Users/AndresVJ/Desktop/proyecto%20final/backend/modelo.ipynb#Y103sZmlsZQ%3D%3D?line=0'>1</a>\u001b[0m text_clf()\n",
      "\u001b[1;31mNameError\u001b[0m: name 'text_clf' is not defined"
     ]
    }
   ],
   "source": [
    "text_clf()"
   ]
  },
  {
   "cell_type": "code",
   "execution_count": 25,
   "metadata": {},
   "outputs": [],
   "source": [
    "pickle.dump(\n",
    "    text_clf, open(SKLEARN_MODEL_PATH, \"wb\")\n",
    ")  # export the model to a file so we can use it later\n"
   ]
  },
  {
   "cell_type": "markdown",
   "metadata": {},
   "source": [
    "# WeB Scrapping"
   ]
  },
  {
   "cell_type": "code",
   "execution_count": 41,
   "metadata": {},
   "outputs": [
    {
     "name": "stderr",
     "output_type": "stream",
     "text": [
      "No model was supplied, defaulted to t5-small and revision d769bba (https://huggingface.co/t5-small).\n",
      "Using a pipeline without specifying a model name and revision in production is not recommended.\n"
     ]
    },
    {
     "data": {
      "application/vnd.jupyter.widget-view+json": {
       "model_id": "b78a77e3d53e4f909a872f91e63409c6",
       "version_major": 2,
       "version_minor": 0
      },
      "text/plain": [
       "Downloading model.safetensors:   0%|          | 0.00/242M [00:00<?, ?B/s]"
      ]
     },
     "metadata": {},
     "output_type": "display_data"
    },
    {
     "name": "stderr",
     "output_type": "stream",
     "text": [
      "All PyTorch model weights were used when initializing TFT5ForConditionalGeneration.\n",
      "\n",
      "All the weights of TFT5ForConditionalGeneration were initialized from the PyTorch model.\n",
      "If your task is similar to the task the model of the checkpoint was trained on, you can already use TFT5ForConditionalGeneration for predictions without further training.\n"
     ]
    },
    {
     "data": {
      "application/vnd.jupyter.widget-view+json": {
       "model_id": "7e60f9da460d48b6812999dd34eb6042",
       "version_major": 2,
       "version_minor": 0
      },
      "text/plain": [
       "Downloading (…)okenizer_config.json:   0%|          | 0.00/2.32k [00:00<?, ?B/s]"
      ]
     },
     "metadata": {},
     "output_type": "display_data"
    },
    {
     "data": {
      "application/vnd.jupyter.widget-view+json": {
       "model_id": "b2e99ebf1c7c4d02b0a227b7ea9d87db",
       "version_major": 2,
       "version_minor": 0
      },
      "text/plain": [
       "Downloading (…)ve/main/spiece.model:   0%|          | 0.00/792k [00:00<?, ?B/s]"
      ]
     },
     "metadata": {},
     "output_type": "display_data"
    },
    {
     "data": {
      "application/vnd.jupyter.widget-view+json": {
       "model_id": "0f1c0216b27e4d3ab44cd14ba158fca5",
       "version_major": 2,
       "version_minor": 0
      },
      "text/plain": [
       "Downloading (…)/main/tokenizer.json:   0%|          | 0.00/1.39M [00:00<?, ?B/s]"
      ]
     },
     "metadata": {},
     "output_type": "display_data"
    }
   ],
   "source": [
    "summarizer = pipeline(\"summarization\",framework='tf')"
   ]
  },
  {
   "cell_type": "code",
   "execution_count": 185,
   "metadata": {},
   "outputs": [],
   "source": [
    "URL = \"https://spartangeek.com/blog/cu%C3%A1nto-cuesta-una-pc-gamer-en-m%C3%A9xico\""
   ]
  },
  {
   "cell_type": "code",
   "execution_count": 186,
   "metadata": {},
   "outputs": [],
   "source": [
    "URL = \"https://spartangeek.com/blog/cu%C3%A1nto-cuesta-una-pc-gamer-en-m%C3%A9xico\"\n"
   ]
  },
  {
   "cell_type": "code",
   "execution_count": 187,
   "metadata": {},
   "outputs": [
    {
     "data": {
      "text/plain": [
       "'<!DOCTYPE html>\\n<html lang=\"es\">\\n<head>\\n\\n<script>(function(w,d,s,l,i){w[l]=w[l]||[];w[l].push({\\'gtm.start\\':\\n    new Date().getTime(),event:\\'gtm.js\\'});var f=d.getElementsByTagName(s)[0],\\n    j=d.createElement(s),dl=l!=\\'dataLayer\\'?\\'&l=\\'+l:\\'\\';j.async=true;j.src=\\n    \\'https://www.googletagmanager.com/gtm.js?id=\\'+i+dl;f.parentNode.insertBefore(j,f);\\n    })(window,document,\\'script\\',\\'dataLayer\\',\\'GTM-TTSXPGS\\');</script>\\n<meta charset=\"utf-8\">\\n<meta http-equiv=\"X-UA-Compatible\" content=\"IE=Edge\">\\n<meta property=\"og:type\" content=\"article\">\\n<meta property=\"og:title\" content=\"¿Cuánto cuesta una PC gamer en México? (Actualizado 2023) | Spartan Geek\">\\n<meta property=\"og:url\" content=\"https://spartangeek.com/blog/cuánto-cuesta-una-pc-gamer-en-méxico\">\\n<meta property=\"og:image\" content=\" //assets.spartangeek.com/cc/pc-gamer_200117_155255.jpg \">\\n<meta property=\"article:author\" content=\"Spartan Geek\">\\n<meta content=\"Cuánto vale una PC gamer: cuánto cuesta armar una PC gamer en México según tus necesidades y presupuesto. Computadoras gaming baratas, de gama media y alta...\" property=\"og:description\" />\\n<meta content=\"Cuánto vale una PC gamer: cuánto cuesta armar una PC gamer en México según tus necesidades y presupuesto. Computadoras gaming baratas, de gama media y alta...\" name=\"description\" />\\n<title>¿Cuánto cuesta una PC gamer en México? (Actualizado 2023) | Spartan Geek</title>\\n<meta name=\"author\" content=\"SpartanGeek\">\\n<meta property=\"og:locale\" content=\"es_MX\" />\\n<meta name=\"viewport\" content=\"width=device-width, initial-scale=1\">\\n<link href=\"/favicon.png\" rel=\"shortcut icon\" type=\"image/x-icon\" />\\n<link rel=\"stylesheet\" href=\"/assets/css/tachyons.min.css\">\\n<link rel=\"stylesheet\" href=\"/assets/css/lotus.css\">\\n<link rel=\"stylesheet\" href=\"/assets/css/global.css\">\\n<link rel=\"stylesheet\" href=\"/assets/css/partials.css\">\\n<link rel=\"stylesheet\" href=\"/assets/css/components.css\">\\n<script src=\"https://kit.fontawesome.com/8634ad19e3.js\" crossorigin=\"anonymous\" defer></script>\\n<link rel=\"stylesheet\" href=\"https://unpkg.com/@glidejs/glide@3.1.0/dist/css/glide.core.min.css\" />\\n<link rel=\"stylesheet\" href=\"/assets/css/blog.css\">\\n<link rel=\"stylesheet\" href=\"/assets/css/blog_banner.css\">\\n</head>\\n<body class=\"antialiased\">\\n\\n<script type=\"text/javascript\">\\n    (function(r,e,c,o,m,me,n,d,i,x){\\n        r[m]=r[m]||function(){(r[m].i=r[m].i||[]).push(arguments)},\\n        me=e.createElement(c),x=e.getElementsByTagName(c)[0],me.async=1,\\n        me.src=o,x.parentNode.insertBefore(me,x)\\n    })(window,document,\\'script\\',\\'https://getrcmx.com/i/tag.js\\',\\'rcm1x\\');\\n\\n    rcm1x(8395132,\\'init\\', {\\n        lang:\\'es-MX\\',\\n        size:\\'s\\',\\n    });\\n    </script>\\n\\n\\n<noscript><iframe src=\"https://www.googletagmanager.com/ns.html?id=GTM-TTSXPGS\"\\n    height=\"0\" width=\"0\" style=\"display:none;visibility:hidden\"></iframe></noscript>\\n\\n<nav>\\n<div class=\"mw8 center ph0-ns ph3 pv3\">\\n<div class=\"flex flex-wrap justify-between\">\\n<div>\\n<a href=\"https://spartangeek.com/blog\">\\n<img class=\"dib\" id=\"blogLogo\" src=\"/assets/images/blog/sg-b-logo.svg\" alt=\"Spartan Geek Logo\" />\\n</a>\\n</div>\\n<div class=\"dib-ns dn\">\\n<ul class=\"list pl0 f6 fw6\">\\n<li class=\"dib mr2\"><a class=\"dim\" href=\"https://spartangeek.com/showcase/pc-gamer?ref=blog\">Computadoras gamer</a></li>\\n<li class=\"dib mr2\"><a class=\"dim\" href=\"https://spartangeek.com/showcase/workstation?ref=blog\">Workstations</a></li>\\n<li class=\"dib mr2\"><a class=\"dim\" href=\"https://spartangeek.com/tienda/sillas-gamer?ref=blog\">Sillas gamer y accesorios</a></li>\\n<li class=\"dib\"><a class=\"primBtn\" href=\"https://spartangeek.com/asistente?ref=blog\">Pedir PC personalizada</a></li>\\n</ul>\\n</div>\\n<div class=\"dib dn-ns\">\\n<span onclick=\"openBlogNav()\"><i class=\"far fa-bars f4\"></i></span>\\n</div>\\n</div>\\n</div>\\n</nav>\\n<div id=\"blogNav\" class=\"blogOverlay\">\\n<div class=\"w-80 center tr mt4\">\\n<a href=\"javascript:void(0)\" class=\"closeBlogNav flex items-center justify-end\" onclick=\"closeBlogNav()\">\\n<i class=\"f3 far fa-times mr2\"> </i> Cerrar\\n</a>\\n</div>\\n<div class=\"blogOverlay_content w-60 center\">\\n<ul class=\"pl0 list\">\\n<li class=\"mv3\"><a class=\"f3\" href=\"https://spartangeek.com/showcase/pc-gamer?ref=blog\">Computadoras Gamer</a></li>\\n<li class=\"mv3\"><a class=\"f3\" href=\"https://spartangeek.com/showcase/workstation?ref=blog\">Workstations</a></li>\\n<li class=\"mv3\"><a class=\"f3\" href=\"https://spartangeek.com/tienda/sillas-gamer?ref=blog\">Sillas Gamer</a></li>\\n<li class=\"mv3\"><a class=\"f3\" href=\"https://spartangeek.com/asistente?ref=blog\">PC Personalizada</a></li>\\n</ul>\\n</div>\\n</div>\\n<script>\\n    /* Open */\\n    function openBlogNav() {\\n        document.getElementById(\"blogNav\").style.height = \"100%\";\\n    }\\n    \\n    /* Close */\\n    function closeBlogNav() {\\n        document.getElementById(\"blogNav\").style.height = \"0%\";\\n    }\\n</script>\\n<div class=\"flex justify-end db dn-ns\">\\n<div class=\"fixed bottom-2 z-9999\">\\n<a class=\"primBtn_s ph3 pv2 br-pill f5 mr3\" href=\"https://spartangeek.com/asistente?ref=blog\">Arma tu PC</a>\\n</div>\\n</div>\\n<main>\\n<div class=\"mw8 center ph0-ns ph5-ns ph3\">\\n<div class=\"flex-ns db flex-row relative justify-center\">\\n<article class=\"mw68 blogContent\">\\n<ul class=\"list pl0 f6 blogBreadCrumbs\">\\n<li class=\"dib\">\\n<a href=\"https://spartangeek.com/blog\">Blog / </a>\\n</li>\\n<li class=\"dib\">\\n<a href=\"https://spartangeek.com/blog/gaming\">Gaming</a>\\n</li>\\n</ul>\\n<h1 class=\"f1 lh-title-ns mv0 fw8 pt0\">¿Cuánto cuesta una PC gamer en México? (Actualizado 2023)</h1>\\n<div class=\"articleInfo flex flex-wrap pv3 mb2\">\\n<div class=\"ctgTag f7\">\\n<div class=\"ctgColor dib\" style=\"background-color:#0078f2;\"></div>\\nGaming\\n</div>\\n<div class=\"pl3-ms pl2\">\\n<span class=\"mr2\"><i class=\"far fa-calendar-day\"></i> 1 abr. 2023</span>\\n</div>\\n<div class=\"pl3-ms pl2\">\\n<span class=\"mr2\"><i class=\"far fa-clock\"></i> 2 minutos de lectura </span>\\n</div>\\n</div>\\n<img class=\"w-100 br3\" src=\"//assets.spartangeek.com/cc/pc-gamer_200117_155255.jpg\" alt>\\n<p>A diferencia de las consolas, una PC gamer puede llegar a ser realmente costosa. Pero <strong>cuánto cuesta una PC gamer en México</strong> depende de la potencia del hardware que utilice. Una computadora gamer barata puede satisfacer las necesidades más básicas, pero un gamer dedicado necesitará un equipo más potente.</p>\\n<h2>¿Cuánto cuesta armar una PC gamer?</h2>\\n<p>Depende del tipo de computadora gamer que quieras. Una PC gamer armada puede costar <strong>$12,000 pesos</strong>, si usas hardware de gama baja, o <strong>más de $100,000</strong> pesos si usas lo mejor que el mercado puede ofrecer en componentes.</p>\\n<h2>¿Cuánto cuesta una PC gamer barata?</h2>\\n<p>Una computadora para videojuegos barata vale <strong>entre $12,000 pesos y $21,000 pesos</strong>.</p>\\n<p>Entre <strong>las pc gamers más baratas </strong>encontramos procesadores Intel i3 o Ryzen 3 y gráficos Radeon Vega 11 y RX 550. Por ejemplo, la <a href=\"https://spartangeek.com/pc/agis-r5\" target=\"_blank\" rel=\"noreferrer noopener\">PC gamer Agis R5</a> ofrece CPU Ryzen 5 3400G, gráficos Radeon Vega 11, 8 GB de RAM y 1 TB HDD por $13,390 pesos. Mientras que con la <a href=\"https://spartangeek.com/pc/gladius-50i\" target=\"_blank\" rel=\"noreferrer noopener\">Gladius 50i</a> obtienes un Intel Core i3 9100F y tarjeta de video GTX 1650 por $15,760.</p>\\n<p>En el extremo más alto de la gama baja encontramos, por ejemplo, <strong>computadoras gaming</strong> como la <a href=\"https://spartangeek.com/pc/gladius-60i\" target=\"_blank\" rel=\"noreferrer noopener\">Gladius 60i</a>, con procesador Intel i5 de novena generación y tarjeta gráfica Nvidia GTX 1660 por $20,400 pesos. Mientras que <a href=\"https://spartangeek.com/pc/gladius-60z-x\" target=\"_blank\" rel=\"noreferrer noopener\">esta otra PC gamer</a> te ofrece un CPU Ryzen 5 3400G y gráficos GTX 1660 Super por $21,135 pesos.<br/></p>\\n<hr class=\"sg-divider mb3\">\\n<div class=\"flex flex-wrap items-center justify-between buildsHeader\">\\n<div class=\"w-70-ns w-100 \">\\n<h2 class=\"mv0 pv0\">Las mejores Computadoras Gamer Baratas</h2>\\n<p class=\"lh-copy f5\"></p>\\n</div>\\n<div class=\"w-auto  dn flex-ns flex-wrap items-center\">\\n<div class=\"pr3\"><a class=\"db\" href=\"https://spartangeek.com/showcase/pc-gamer?sort=priceAsc&amp;priceRange=1#showcase\">Ver todo</a></div>\\n<div>\\n<button data-target=\"hScroll2\" class=\"slideLeft hScroll_btn dim\">\\n<i class=\"fa-sharp fa-regular fa-angle-left\"></i>\\n</button>\\n<button data-target=\"hScroll2\" class=\"slideRight hScroll_btn dim\">\\n<i class=\"fa-sharp fa-regular fa-angle-right\"></i>\\n</button>\\n</div>\\n</div>\\n</div>\\n<hr class=\"sg-divider\">\\n<div class=\"horizontal_overflow_wrapper pv4 \" id=\"hScroll2\">\\n<div class=\"h-featured-pc-card flex flex-row mr0-ns mr3\">\\n<div class=\"build_card pv3 ph3-ns ph2 w-95-ns w-100 center tl\">\\n<a class=\"white no-underline\" href=\"https://spartangeek.com/pc/caster-one?utm_source=internal&amp;utm_campaign=home\">\\n<div class=\"config_pc_mask\">\\n<div class=\"config_pc_label f6\">\\n<i class=\"far fa-sliders-v\"></i> Configurar esta PC\\n</div>\\n</div>\\n<div class=\"relative tc\">\\n<img loading=\"lazy\" width=\"208\" height=\"208\" alt=\"Caster One\" src=\"//assets.spartangeek.com/cc/_showcaseSmall/38005/Gabinete-Fuente-Acteck-Kioto-2.webp\" />\\n<div class=\"absolute bottom-0 left-0\">\\n<span class=\"pc_sale_label \">Oferta</span>\\n</div>\\n<div class=\"absolute top-0 right-0\">\\n<img src=\"/assets/images/showcase/ryzen_tag.svg\" alt />\\n<img class=\"db tr\" src=\"/assets/images/showcase/radeon_tag.svg\" alt=\"PC Gamer con Procesadores Ryzen\">\\n</div>\\n</div>\\n<h3 class=\"f5 mv0 pt2\">Computadoras Gamer Caster One</h3>\\n<div class=\"f7 pv0 mv0\">Ármala desde <br>\\n<span class=\"sale_price strike f6 fw5\">$8,248</span>\\n<span class=\"f3 b\">$6,698</span>\\n</div>\\n<ul class=\"list pl0\">\\n<li class=\"flex flex-wrap items-center mb3\">\\n<div><img class=\"yipicon\" width=\"31\" height=\"31\" src=\"/assets/images/showcase/icons/sq-gpu.svg\" alt=\"Tarjeta de video icono\" /></div>\\n<div class=\"fw7 f6 pl2\">Tarjeta de video:<br><span class=\"fw4\"> Gráficos Radeon</span></div>\\n</li>\\n<li class=\"flex flex-wrap items-center mb3\">\\n<div><img class=\"cpuicon\" width=\"31\" height=\"31\" src=\"/assets/images/showcase/icons/sq-cpu.svg\" alt=\"procesador icono\" loading=\"lazy\" /></div>\\n<div class=\"fw7 f6 pl2\">Procesador:<br><span class=\"fw4 lh-copy\"> Athlon 3000G</span></div>\\n</li>\\n<li class=\"flex flex-wrap items-center mb3\">\\n<div><img class=\"ramicon\" width=\"31\" height=\"31\" src=\"/assets/images/showcase/icons/sq-ram.svg\" alt=\"Ram Icono\" loading=\"lazy\" /></div>\\n<div class=\"fw7 f6 pl2\">RAM:<br><span class=\"fw4 lh-copy\">8GB DDR4</span></div>\\n</li>\\n<li class=\"flex flex-wrap items-center mb3\">\\n<div><img class=\"storageicon\" width=\"31\" height=\"31\" src=\"/assets/images/showcase/icons/sq-hd.svg\" alt=\"Disco duro icono\" loading=\"lazy\" /></div>\\n<div class=\"fw7 f6 pl2\">Almacenamiento:<br>\\n<span class=\"fw4 lh-copy\"> 1TB + -- SSD</span></div>\\n</li>\\n<li class=\"flex flex-wrap items-center mb3\">\\n<div><img class=\"fanicon\" width=\"31\" height=\"31\" src=\"/assets/images/showcase/icons/sq-fan.svg\" alt=\"Disco duro icono\" loading=\"lazy\" /></div>\\n<div class=\"fw7 f6 pl2\">Enfriamiento:<br>\\n<span class=\"fw4 lh-copy\"> AMD Wraith</span></div>\\n</li>\\n</ul>\\n</a>\\n</div>\\n</div>\\n<div class=\"h-featured-pc-card flex flex-row mr0-ns mr3\">\\n<div class=\"build_card pv3 ph3-ns ph2 w-95-ns w-100 center tl\">\\n<a class=\"white no-underline\" href=\"https://spartangeek.com/pc/agis-g50?utm_source=internal&amp;utm_campaign=home\">\\n<div class=\"config_pc_mask\">\\n<div class=\"config_pc_label f6\">\\n<i class=\"far fa-sliders-v\"></i> Configurar esta PC\\n</div>\\n</div>\\n<div class=\"relative tc\">\\n<img loading=\"lazy\" width=\"208\" height=\"208\" alt=\"Agis G50\" src=\"//assets.spartangeek.com/cc/_showcaseSmall/38005/Gabinete-Fuente-Acteck-Kioto-2.webp\" />\\n<div class=\"absolute bottom-0 left-0\">\\n<span class=\"pc_sale_label \">Oferta</span>\\n</div>\\n<div class=\"absolute top-0 right-0\">\\n<img src=\"/assets/images/showcase/intel_tag.svg\" alt />\\n<img class=\"db tr\" src=\"/assets/images/showcase/nvidia_tag.svg\" alt=\"PC Gamer con Procesadores Ryzen\">\\n</div>\\n</div>\\n<h3 class=\"f5 mv0 pt2\">Computadoras Gamer Agis G50</h3>\\n<div class=\"f7 pv0 mv0\">Ármala desde <br>\\n<span class=\"sale_price strike f6 fw5\">$14,049</span>\\n<span class=\"f3 b\">$10,539</span>\\n</div>\\n<ul class=\"list pl0\">\\n<li class=\"flex flex-wrap items-center mb3\">\\n<div><img class=\"yipicon\" width=\"31\" height=\"31\" src=\"/assets/images/showcase/icons/sq-gpu.svg\" alt=\"Tarjeta de video icono\" /></div>\\n<div class=\"fw7 f6 pl2\">Tarjeta de video:<br><span class=\"fw4\"> Gráficos Intel</span></div>\\n</li>\\n<li class=\"flex flex-wrap items-center mb3\">\\n<div><img class=\"cpuicon\" width=\"31\" height=\"31\" src=\"/assets/images/showcase/icons/sq-cpu.svg\" alt=\"procesador icono\" loading=\"lazy\" /></div>\\n<div class=\"fw7 f6 pl2\">Procesador:<br><span class=\"fw4 lh-copy\"> Intel i5 13th Gen</span></div>\\n</li>\\n<li class=\"flex flex-wrap items-center mb3\">\\n<div><img class=\"ramicon\" width=\"31\" height=\"31\" src=\"/assets/images/showcase/icons/sq-ram.svg\" alt=\"Ram Icono\" loading=\"lazy\" /></div>\\n<div class=\"fw7 f6 pl2\">RAM:<br><span class=\"fw4 lh-copy\">8GB DDR4</span></div>\\n</li>\\n<li class=\"flex flex-wrap items-center mb3\">\\n<div><img class=\"storageicon\" width=\"31\" height=\"31\" src=\"/assets/images/showcase/icons/sq-hd.svg\" alt=\"Disco duro icono\" loading=\"lazy\" /></div>\\n<div class=\"fw7 f6 pl2\">Almacenamiento:<br>\\n<span class=\"fw4 lh-copy\"> + 1TB SSD NVME SSD</span></div>\\n</li>\\n<li class=\"flex flex-wrap items-center mb3\">\\n<div><img class=\"fanicon\" width=\"31\" height=\"31\" src=\"/assets/images/showcase/icons/sq-fan.svg\" alt=\"Disco duro icono\" loading=\"lazy\" /></div>\\n<div class=\"fw7 f6 pl2\">Enfriamiento:<br>\\n<span class=\"fw4 lh-copy\"> Intel Stock</span></div>\\n</li>\\n</ul>\\n</a>\\n</div>\\n</div>\\n<div class=\"h-featured-pc-card flex flex-row mr0-ns mr3\">\\n<div class=\"build_card pv3 ph3-ns ph2 w-95-ns w-100 center tl\">\\n<a class=\"white no-underline\" href=\"https://spartangeek.com/pc/agis-50z?utm_source=internal&amp;utm_campaign=home\">\\n<div class=\"config_pc_mask\">\\n<div class=\"config_pc_label f6\">\\n<i class=\"far fa-sliders-v\"></i> Configurar esta PC\\n</div>\\n</div>\\n<div class=\"relative tc\">\\n<img loading=\"lazy\" width=\"208\" height=\"208\" alt=\"Agis 50z\" src=\"//assets.spartangeek.com/cc/_showcaseSmall/39938/Yaguaret-Infinity-1.webp\" />\\n<div class=\"absolute bottom-0 left-0\">\\n<span class=\"pc_sale_label \">Oferta</span>\\n</div>\\n<div class=\"absolute top-0 right-0\">\\n<img src=\"/assets/images/showcase/ryzen_tag.svg\" alt />\\n<img class=\"db tr\" src=\"/assets/images/showcase/radeon_tag.svg\" alt=\"PC Gamer con Procesadores Ryzen\">\\n</div>\\n</div>\\n<h3 class=\"f5 mv0 pt2\">Computadoras Gamer Agis 50z</h3>\\n<div class=\"f7 pv0 mv0\">Ármala desde <br>\\n<span class=\"sale_price strike f6 fw5\">$10,000</span>\\n<span class=\"f3 b\">$7,599</span>\\n</div>\\n<ul class=\"list pl0\">\\n<li class=\"flex flex-wrap items-center mb3\">\\n<div><img class=\"yipicon\" width=\"31\" height=\"31\" src=\"/assets/images/showcase/icons/sq-gpu.svg\" alt=\"Tarjeta de video icono\" /></div>\\n<div class=\"fw7 f6 pl2\">Tarjeta de video:<br><span class=\"fw4\"> Gráficos Radeon</span></div>\\n</li>\\n<li class=\"flex flex-wrap items-center mb3\">\\n<div><img class=\"cpuicon\" width=\"31\" height=\"31\" src=\"/assets/images/showcase/icons/sq-cpu.svg\" alt=\"procesador icono\" loading=\"lazy\" /></div>\\n<div class=\"fw7 f6 pl2\">Procesador:<br><span class=\"fw4 lh-copy\"> Ryzen 5 5600G</span></div>\\n</li>\\n<li class=\"flex flex-wrap items-center mb3\">\\n<div><img class=\"ramicon\" width=\"31\" height=\"31\" src=\"/assets/images/showcase/icons/sq-ram.svg\" alt=\"Ram Icono\" loading=\"lazy\" /></div>\\n<div class=\"fw7 f6 pl2\">RAM:<br><span class=\"fw4 lh-copy\">8GB DDR4</span></div>\\n</li>\\n<li class=\"flex flex-wrap items-center mb3\">\\n<div><img class=\"storageicon\" width=\"31\" height=\"31\" src=\"/assets/images/showcase/icons/sq-hd.svg\" alt=\"Disco duro icono\" loading=\"lazy\" /></div>\\n<div class=\"fw7 f6 pl2\">Almacenamiento:<br>\\n<span class=\"fw4 lh-copy\"> + 1TB SSD NVME SSD</span></div>\\n</li>\\n<li class=\"flex flex-wrap items-center mb3\">\\n<div><img class=\"fanicon\" width=\"31\" height=\"31\" src=\"/assets/images/showcase/icons/sq-fan.svg\" alt=\"Disco duro icono\" loading=\"lazy\" /></div>\\n<div class=\"fw7 f6 pl2\">Enfriamiento:<br>\\n<span class=\"fw4 lh-copy\"> AMD Wraith</span></div>\\n</li>\\n</ul>\\n</a>\\n</div>\\n</div>\\n<div class=\"h-featured-pc-card flex flex-row mr0-ns mr3\">\\n<div class=\"build_card pv3 ph3-ns ph2 w-95-ns w-100 center tl\">\\n<a class=\"white no-underline\" href=\"https://spartangeek.com/pc/agis-r3?utm_source=internal&amp;utm_campaign=home\">\\n<div class=\"config_pc_mask\">\\n<div class=\"config_pc_label f6\">\\n<i class=\"far fa-sliders-v\"></i> Configurar esta PC\\n</div>\\n</div>\\n<div class=\"relative tc\">\\n<img loading=\"lazy\" width=\"208\" height=\"208\" alt=\"Agis R3\" src=\"//assets.spartangeek.com/cc/_showcaseSmall/43421/XPG-Valor-Air-White-1.webp\" />\\n<div class=\"absolute bottom-0 left-0\">\\n<span class=\"pc_sale_label \">Oferta</span>\\n</div>\\n<div class=\"absolute top-0 right-0\">\\n<img src=\"/assets/images/showcase/ryzen_tag.svg\" alt />\\n<img class=\"db tr\" src=\"/assets/images/showcase/radeon_tag.svg\" alt=\"PC Gamer con Procesadores Ryzen\">\\n</div>\\n</div>\\n<h3 class=\"f5 mv0 pt2\">Computadoras Gamer Agis R3</h3>\\n<div class=\"f7 pv0 mv0\">Ármala desde <br>\\n<span class=\"sale_price strike f6 fw5\">$9,048</span>\\n<span class=\"f3 b\">$8,039</span>\\n</div>\\n<ul class=\"list pl0\">\\n<li class=\"flex flex-wrap items-center mb3\">\\n<div><img class=\"yipicon\" width=\"31\" height=\"31\" src=\"/assets/images/showcase/icons/sq-gpu.svg\" alt=\"Tarjeta de video icono\" /></div>\\n<div class=\"fw7 f6 pl2\">Tarjeta de video:<br><span class=\"fw4\"> Gráficos Radeon</span></div>\\n</li>\\n<li class=\"flex flex-wrap items-center mb3\">\\n<div><img class=\"cpuicon\" width=\"31\" height=\"31\" src=\"/assets/images/showcase/icons/sq-cpu.svg\" alt=\"procesador icono\" loading=\"lazy\" /></div>\\n<div class=\"fw7 f6 pl2\">Procesador:<br><span class=\"fw4 lh-copy\"> Ryzen 3 3200G</span></div>\\n</li>\\n<li class=\"flex flex-wrap items-center mb3\">\\n<div><img class=\"ramicon\" width=\"31\" height=\"31\" src=\"/assets/images/showcase/icons/sq-ram.svg\" alt=\"Ram Icono\" loading=\"lazy\" /></div>\\n<div class=\"fw7 f6 pl2\">RAM:<br><span class=\"fw4 lh-copy\">8GB DDR4</span></div>\\n</li>\\n<li class=\"flex flex-wrap items-center mb3\">\\n<div><img class=\"storageicon\" width=\"31\" height=\"31\" src=\"/assets/images/showcase/icons/sq-hd.svg\" alt=\"Disco duro icono\" loading=\"lazy\" /></div>\\n<div class=\"fw7 f6 pl2\">Almacenamiento:<br>\\n<span class=\"fw4 lh-copy\"> 1TB </span></div>\\n</li>\\n<li class=\"flex flex-wrap items-center mb3\">\\n<div><img class=\"fanicon\" width=\"31\" height=\"31\" src=\"/assets/images/showcase/icons/sq-fan.svg\" alt=\"Disco duro icono\" loading=\"lazy\" /></div>\\n<div class=\"fw7 f6 pl2\">Enfriamiento:<br>\\n<span class=\"fw4 lh-copy\"> AMD Wraith</span></div>\\n</li>\\n</ul>\\n</a>\\n</div>\\n</div>\\n<div class=\"h-featured-pc-card flex flex-row mr0-ns mr3\">\\n<div class=\"build_card pv3 ph3-ns ph2 w-95-ns w-100 center tl\">\\n<a class=\"white no-underline\" href=\"https://spartangeek.com/pc/agis-r5?utm_source=internal&amp;utm_campaign=home\">\\n<div class=\"config_pc_mask\">\\n<div class=\"config_pc_label f6\">\\n<i class=\"far fa-sliders-v\"></i> Configurar esta PC\\n</div>\\n</div>\\n<div class=\"relative tc\">\\n<img loading=\"lazy\" width=\"208\" height=\"208\" alt=\"Agis R5\" src=\"//assets.spartangeek.com/cc/_showcaseSmall/43831/DeepCool-CK560-1.webp\" />\\n<div class=\"absolute bottom-0 left-0\">\\n<span class=\"pc_sale_label \">Oferta</span>\\n</div>\\n<div class=\"absolute top-0 right-0\">\\n<img src=\"/assets/images/showcase/ryzen_tag.svg\" alt />\\n<img class=\"db tr\" src=\"/assets/images/showcase/radeon_tag.svg\" alt=\"PC Gamer con Procesadores Ryzen\">\\n</div>\\n</div>\\n<h3 class=\"f5 mv0 pt2\">Computadoras Gamer Agis R5</h3>\\n<div class=\"f7 pv0 mv0\">Ármala desde <br>\\n<span class=\"sale_price strike f6 fw5\">$16,729</span>\\n<span class=\"f3 b\">$14,899</span>\\n</div>\\n<ul class=\"list pl0\">\\n<li class=\"flex flex-wrap items-center mb3\">\\n<div><img class=\"yipicon\" width=\"31\" height=\"31\" src=\"/assets/images/showcase/icons/sq-gpu.svg\" alt=\"Tarjeta de video icono\" /></div>\\n<div class=\"fw7 f6 pl2\">Tarjeta de video:<br><span class=\"fw4\"> Gráficos Radeon</span></div>\\n</li>\\n<li class=\"flex flex-wrap items-center mb3\">\\n<div><img class=\"cpuicon\" width=\"31\" height=\"31\" src=\"/assets/images/showcase/icons/sq-cpu.svg\" alt=\"procesador icono\" loading=\"lazy\" /></div>\\n<div class=\"fw7 f6 pl2\">Procesador:<br><span class=\"fw4 lh-copy\"> Ryzen 7 4750G</span></div>\\n</li>\\n<li class=\"flex flex-wrap items-center mb3\">\\n<div><img class=\"ramicon\" width=\"31\" height=\"31\" src=\"/assets/images/showcase/icons/sq-ram.svg\" alt=\"Ram Icono\" loading=\"lazy\" /></div>\\n<div class=\"fw7 f6 pl2\">RAM:<br><span class=\"fw4 lh-copy\">8GB DDR4</span></div>\\n</li>\\n<li class=\"flex flex-wrap items-center mb3\">\\n<div><img class=\"storageicon\" width=\"31\" height=\"31\" src=\"/assets/images/showcase/icons/sq-hd.svg\" alt=\"Disco duro icono\" loading=\"lazy\" /></div>\\n<div class=\"fw7 f6 pl2\">Almacenamiento:<br>\\n<span class=\"fw4 lh-copy\"> + 1TB SSD NVME SSD</span></div>\\n</li>\\n<li class=\"flex flex-wrap items-center mb3\">\\n<div><img class=\"fanicon\" width=\"31\" height=\"31\" src=\"/assets/images/showcase/icons/sq-fan.svg\" alt=\"Disco duro icono\" loading=\"lazy\" /></div>\\n<div class=\"fw7 f6 pl2\">Enfriamiento:<br>\\n<span class=\"fw4 lh-copy\"> AMD Wraith</span></div>\\n</li>\\n</ul>\\n</a>\\n</div>\\n</div>\\n<div class=\"h-featured-pc-card flex flex-row mr0-ns mr3\">\\n<div class=\"build_card pv3 ph3-ns ph2 w-95-ns w-100 center tl\">\\n<a class=\"white no-underline\" href=\"https://spartangeek.com/pc/agis-g30?utm_source=internal&amp;utm_campaign=home\">\\n<div class=\"config_pc_mask\">\\n<div class=\"config_pc_label f6\">\\n<i class=\"far fa-sliders-v\"></i> Configurar esta PC\\n</div>\\n</div>\\n<div class=\"relative tc\">\\n<img loading=\"lazy\" width=\"208\" height=\"208\" alt=\"Agis G30\" src=\"//assets.spartangeek.com/cc/_showcaseSmall/38000/Gabinete-Fuente-Acteck-Hercius-X700.webp\" />\\n<div class=\"absolute bottom-0 left-0\">\\n<span class=\"pc_sale_label \">Oferta</span>\\n</div>\\n<div class=\"absolute top-0 right-0\">\\n<img src=\"/assets/images/showcase/intel_tag.svg\" alt />\\n<img class=\"db tr\" src=\"/assets/images/showcase/nvidia_tag.svg\" alt=\"PC Gamer con Procesadores Ryzen\">\\n</div>\\n</div>\\n<h3 class=\"f5 mv0 pt2\">Computadoras Gamer Agis G30</h3>\\n<div class=\"f7 pv0 mv0\">Ármala desde <br>\\n<span class=\"sale_price strike f6 fw5\">$10,049</span>\\n<span class=\"f3 b\">$7,529</span>\\n</div>\\n<ul class=\"list pl0\">\\n<li class=\"flex flex-wrap items-center mb3\">\\n<div><img class=\"yipicon\" width=\"31\" height=\"31\" src=\"/assets/images/showcase/icons/sq-gpu.svg\" alt=\"Tarjeta de video icono\" /></div>\\n<div class=\"fw7 f6 pl2\">Tarjeta de video:<br><span class=\"fw4\"> Gráficos Intel</span></div>\\n</li>\\n<li class=\"flex flex-wrap items-center mb3\">\\n<div><img class=\"cpuicon\" width=\"31\" height=\"31\" src=\"/assets/images/showcase/icons/sq-cpu.svg\" alt=\"procesador icono\" loading=\"lazy\" /></div>\\n<div class=\"fw7 f6 pl2\">Procesador:<br><span class=\"fw4 lh-copy\"> Intel i3 13th Gen</span></div>\\n</li>\\n<li class=\"flex flex-wrap items-center mb3\">\\n<div><img class=\"ramicon\" width=\"31\" height=\"31\" src=\"/assets/images/showcase/icons/sq-ram.svg\" alt=\"Ram Icono\" loading=\"lazy\" /></div>\\n<div class=\"fw7 f6 pl2\">RAM:<br><span class=\"fw4 lh-copy\">8GB DDR4</span></div>\\n</li>\\n<li class=\"flex flex-wrap items-center mb3\">\\n<div><img class=\"storageicon\" width=\"31\" height=\"31\" src=\"/assets/images/showcase/icons/sq-hd.svg\" alt=\"Disco duro icono\" loading=\"lazy\" /></div>\\n<div class=\"fw7 f6 pl2\">Almacenamiento:<br>\\n<span class=\"fw4 lh-copy\"> + 1TB SSD NVME SSD</span></div>\\n</li>\\n<li class=\"flex flex-wrap items-center mb3\">\\n<div><img class=\"fanicon\" width=\"31\" height=\"31\" src=\"/assets/images/showcase/icons/sq-fan.svg\" alt=\"Disco duro icono\" loading=\"lazy\" /></div>\\n<div class=\"fw7 f6 pl2\">Enfriamiento:<br>\\n<span class=\"fw4 lh-copy\"> Intel Stock</span></div>\\n</li>\\n</ul>\\n</a>\\n</div>\\n</div>\\n</div>\\n<h2>¿Cuánto vale una PC gamer de gama media?</h2>\\n<p>Una PC gamer armada de gama media cuesta <strong>entre $25,000 pesos y $40,000 pesos</strong>.</p>\\n<p>Por $24,195 pesos es posible adquirir una <a href=\"https://spartangeek.com/pc/gladius-60i-x\" target=\"_blank\" rel=\"noreferrer noopener\">computadora para gaming</a> con Intel Core i5 de décima generación y gráficos GTX 1660 Super. Para adquirir algo <strong>más de</strong><strong> RAM</strong> hay que pagar más. La <a href=\"https://spartangeek.com/pc/delios-50i\" target=\"_blank\" rel=\"noreferrer noopener\">Delios 50i</a> viene con procesador i5 de novena generación, gráficos RTX 2060 Y 16 GB de RAM por algo menos de $30,000 pesos.</p>\\n<p>Si necesitas <strong>más potencia gráfica</strong> tendrás que acercarte al extremo superior de la gama media. Por $37,530 pesos puedes comprar una <a href=\"https://spartangeek.com/pc/delios-70z\" target=\"_blank\" rel=\"noreferrer noopener\">PC gamer</a> con tarjeta de video RTX 2070 y procesador Ryzen 5 3600. Mientras que por poco menos de $40,000 pesos puedes mejorar <a href=\"https://spartangeek.com/pc/delios-70i-rtx\" target=\"_blank\" rel=\"noreferrer noopener\">esta configuración</a> con un procesador Intel i5 de décima generación y 2 TB de disco duro HDD.</p>\\n<h2><br/></h2>\\n<hr class=\"sg-divider mb3\">\\n<div class=\"flex flex-wrap items-center justify-between buildsHeader\">\\n<div class=\"w-70-ns w-100 \">\\n<h2 class=\"mv0 pv0\">Computadoras Gaming Gama Media que puedes comprar</h2>\\n<p class=\"lh-copy f5\"></p>\\n</div>\\n<div class=\"w-auto  dn flex-ns flex-wrap items-center\">\\n<div>\\n<button data-target=\"hScroll4\" class=\"slideLeft hScroll_btn dim\">\\n<i class=\"fa-sharp fa-regular fa-angle-left\"></i>\\n</button>\\n<button data-target=\"hScroll4\" class=\"slideRight hScroll_btn dim\">\\n<i class=\"fa-sharp fa-regular fa-angle-right\"></i>\\n</button>\\n</div>\\n</div>\\n</div>\\n<hr class=\"sg-divider\">\\n<div class=\"horizontal_overflow_wrapper pv4 \" id=\"hScroll4\">\\n<div class=\"h-featured-pc-card flex flex-row mr0-ns mr3\">\\n<div class=\"build_card pv3 ph3-ns ph2 w-95-ns w-100 center tl\">\\n<a class=\"white no-underline\" href=\"https://spartangeek.com/pc/gladius-50i?utm_source=internal&amp;utm_campaign=home\">\\n<div class=\"config_pc_mask\">\\n<div class=\"config_pc_label f6\">\\n<i class=\"far fa-sliders-v\"></i> Configurar esta PC\\n</div>\\n</div>\\n<div class=\"relative tc\">\\n<img loading=\"lazy\" width=\"208\" height=\"208\" alt=\"Gladius 50i\" src=\"//assets.spartangeek.com/cc/_showcaseSmall/40549/Scape-1.webp\" />\\n<div class=\"absolute bottom-0 left-0\">\\n<span class=\"pc_sale_label \">Oferta</span>\\n</div>\\n<div class=\"absolute top-0 right-0\">\\n<img src=\"/assets/images/showcase/intel_tag.svg\" alt />\\n<img class=\"db tr\" src=\"/assets/images/showcase/nvidia_tag.svg\" alt=\"PC Gamer con Procesadores Ryzen\">\\n</div>\\n</div>\\n<h3 class=\"f5 mv0 pt2\">Computadoras Gamer Gladius 50i</h3>\\n<div class=\"f7 pv0 mv0\">Ármala desde <br>\\n<span class=\"sale_price strike f6 fw5\">$23,299</span>\\n<span class=\"f3 b\">$21,239</span>\\n</div>\\n<ul class=\"list pl0\">\\n<li class=\"flex flex-wrap items-center mb3\">\\n<div><img class=\"yipicon\" width=\"31\" height=\"31\" src=\"/assets/images/showcase/icons/sq-gpu.svg\" alt=\"Tarjeta de video icono\" /></div>\\n<div class=\"fw7 f6 pl2\">Tarjeta de video:<br><span class=\"fw4\"> RTX 4060 8GB</span></div>\\n</li>\\n<li class=\"flex flex-wrap items-center mb3\">\\n<div><img class=\"cpuicon\" width=\"31\" height=\"31\" src=\"/assets/images/showcase/icons/sq-cpu.svg\" alt=\"procesador icono\" loading=\"lazy\" /></div>\\n<div class=\"fw7 f6 pl2\">Procesador:<br><span class=\"fw4 lh-copy\"> Intel i5 13th Gen</span></div>\\n</li>\\n<li class=\"flex flex-wrap items-center mb3\">\\n<div><img class=\"ramicon\" width=\"31\" height=\"31\" src=\"/assets/images/showcase/icons/sq-ram.svg\" alt=\"Ram Icono\" loading=\"lazy\" /></div>\\n<div class=\"fw7 f6 pl2\">RAM:<br><span class=\"fw4 lh-copy\">16GB DDR4</span></div>\\n</li>\\n<li class=\"flex flex-wrap items-center mb3\">\\n<div><img class=\"storageicon\" width=\"31\" height=\"31\" src=\"/assets/images/showcase/icons/sq-hd.svg\" alt=\"Disco duro icono\" loading=\"lazy\" /></div>\\n<div class=\"fw7 f6 pl2\">Almacenamiento:<br>\\n<span class=\"fw4 lh-copy\"> + 1TB SSD NVME SSD</span></div>\\n</li>\\n<li class=\"flex flex-wrap items-center mb3\">\\n<div><img class=\"fanicon\" width=\"31\" height=\"31\" src=\"/assets/images/showcase/icons/sq-fan.svg\" alt=\"Disco duro icono\" loading=\"lazy\" /></div>\\n<div class=\"fw7 f6 pl2\">Enfriamiento:<br>\\n<span class=\"fw4 lh-copy\"> Intel Stock</span></div>\\n</li>\\n</ul>\\n</a>\\n</div>\\n</div>\\n<div class=\"h-featured-pc-card flex flex-row mr0-ns mr3\">\\n<div class=\"build_card pv3 ph3-ns ph2 w-95-ns w-100 center tl\">\\n<a class=\"white no-underline\" href=\"https://spartangeek.com/pc/gladius-50z?utm_source=internal&amp;utm_campaign=home\">\\n<div class=\"config_pc_mask\">\\n<div class=\"config_pc_label f6\">\\n<i class=\"far fa-sliders-v\"></i> Configurar esta PC\\n</div>\\n</div>\\n<div class=\"relative tc\">\\n<img loading=\"lazy\" width=\"208\" height=\"208\" alt=\"Gladius 50z\" src=\"//assets.spartangeek.com/cc/_showcaseSmall/43089/Gabinete-Balam-Rush-Cyclops-GSX5000-White-1.webp\" />\\n<div class=\"absolute bottom-0 left-0\">\\n<span class=\"pc_sale_label \">Oferta</span>\\n</div>\\n<div class=\"absolute top-0 right-0\">\\n<img src=\"/assets/images/showcase/ryzen_tag.svg\" alt />\\n<img class=\"db tr\" src=\"/assets/images/showcase/nvidia_tag.svg\" alt=\"PC Gamer con Procesadores Ryzen\">\\n</div>\\n</div>\\n<h3 class=\"f5 mv0 pt2\">Computadoras Gamer Gladius 50z</h3>\\n<div class=\"f7 pv0 mv0\">Ármala desde <br>\\n<span class=\"sale_price strike f6 fw5\">$27,830</span>\\n<span class=\"f3 b\">$23,470</span>\\n</div>\\n<ul class=\"list pl0\">\\n<li class=\"flex flex-wrap items-center mb3\">\\n<div><img class=\"yipicon\" width=\"31\" height=\"31\" src=\"/assets/images/showcase/icons/sq-gpu.svg\" alt=\"Tarjeta de video icono\" /></div>\\n<div class=\"fw7 f6 pl2\">Tarjeta de video:<br><span class=\"fw4\"> RTX 4060 Ti 8GB</span></div>\\n</li>\\n<li class=\"flex flex-wrap items-center mb3\">\\n<div><img class=\"cpuicon\" width=\"31\" height=\"31\" src=\"/assets/images/showcase/icons/sq-cpu.svg\" alt=\"procesador icono\" loading=\"lazy\" /></div>\\n<div class=\"fw7 f6 pl2\">Procesador:<br><span class=\"fw4 lh-copy\"> Ryzen 5 7600 (6 Núcleos)</span></div>\\n</li>\\n<li class=\"flex flex-wrap items-center mb3\">\\n<div><img class=\"ramicon\" width=\"31\" height=\"31\" src=\"/assets/images/showcase/icons/sq-ram.svg\" alt=\"Ram Icono\" loading=\"lazy\" /></div>\\n<div class=\"fw7 f6 pl2\">RAM:<br><span class=\"fw4 lh-copy\">16GB DDR5</span></div>\\n</li>\\n<li class=\"flex flex-wrap items-center mb3\">\\n<div><img class=\"storageicon\" width=\"31\" height=\"31\" src=\"/assets/images/showcase/icons/sq-hd.svg\" alt=\"Disco duro icono\" loading=\"lazy\" /></div>\\n<div class=\"fw7 f6 pl2\">Almacenamiento:<br>\\n<span class=\"fw4 lh-copy\"> + 1TB SSD NVME SSD</span></div>\\n</li>\\n<li class=\"flex flex-wrap items-center mb3\">\\n<div><img class=\"fanicon\" width=\"31\" height=\"31\" src=\"/assets/images/showcase/icons/sq-fan.svg\" alt=\"Disco duro icono\" loading=\"lazy\" /></div>\\n<div class=\"fw7 f6 pl2\">Enfriamiento:<br>\\n<span class=\"fw4 lh-copy\"> High Performance</span></div>\\n</li>\\n</ul>\\n</a>\\n</div>\\n</div>\\n<div class=\"h-featured-pc-card flex flex-row mr0-ns mr3\">\\n<div class=\"build_card pv3 ph3-ns ph2 w-95-ns w-100 center tl\">\\n<a class=\"white no-underline\" href=\"https://spartangeek.com/pc/gladius-60z?utm_source=internal&amp;utm_campaign=home\">\\n<div class=\"config_pc_mask\">\\n<div class=\"config_pc_label f6\">\\n<i class=\"far fa-sliders-v\"></i> Configurar esta PC\\n</div>\\n</div>\\n<div class=\"relative tc\">\\n<img loading=\"lazy\" width=\"208\" height=\"208\" alt=\"Gladius 60z\" src=\"//assets.spartangeek.com/cc/_showcaseSmall/46846/Munfrost-Bambu-White-1_2023-09-29-175820_jzus.webp\" />\\n<div class=\"absolute bottom-0 left-0\">\\n</div>\\n<div class=\"absolute top-0 right-0\">\\n<img src=\"/assets/images/showcase/ryzen_tag.svg\" alt />\\n<img class=\"db tr\" src=\"/assets/images/showcase/nvidia_tag.svg\" alt=\"PC Gamer con Procesadores Ryzen\">\\n</div>\\n</div>\\n<h3 class=\"f5 mv0 pt2\">Computadoras Gamer Gladius 60z</h3>\\n<div class=\"f7 pv0 mv0\">Ármala desde <br>\\n<span class=\"f3 b\">$31,188</span>\\n</div>\\n<ul class=\"list pl0\">\\n<li class=\"flex flex-wrap items-center mb3\">\\n<div><img class=\"yipicon\" width=\"31\" height=\"31\" src=\"/assets/images/showcase/icons/sq-gpu.svg\" alt=\"Tarjeta de video icono\" /></div>\\n<div class=\"fw7 f6 pl2\">Tarjeta de video:<br><span class=\"fw4\"> RTX 4060 8GB</span></div>\\n</li>\\n<li class=\"flex flex-wrap items-center mb3\">\\n<div><img class=\"cpuicon\" width=\"31\" height=\"31\" src=\"/assets/images/showcase/icons/sq-cpu.svg\" alt=\"procesador icono\" loading=\"lazy\" /></div>\\n<div class=\"fw7 f6 pl2\">Procesador:<br><span class=\"fw4 lh-copy\"> Ryzen 5 7600 (6 Núcleos)</span></div>\\n</li>\\n<li class=\"flex flex-wrap items-center mb3\">\\n<div><img class=\"ramicon\" width=\"31\" height=\"31\" src=\"/assets/images/showcase/icons/sq-ram.svg\" alt=\"Ram Icono\" loading=\"lazy\" /></div>\\n<div class=\"fw7 f6 pl2\">RAM:<br><span class=\"fw4 lh-copy\">16GB DDR5</span></div>\\n</li>\\n<li class=\"flex flex-wrap items-center mb3\">\\n<div><img class=\"storageicon\" width=\"31\" height=\"31\" src=\"/assets/images/showcase/icons/sq-hd.svg\" alt=\"Disco duro icono\" loading=\"lazy\" /></div>\\n<div class=\"fw7 f6 pl2\">Almacenamiento:<br>\\n<span class=\"fw4 lh-copy\"> + 1TB SSD NVME SSD</span></div>\\n</li>\\n<li class=\"flex flex-wrap items-center mb3\">\\n<div><img class=\"fanicon\" width=\"31\" height=\"31\" src=\"/assets/images/showcase/icons/sq-fan.svg\" alt=\"Disco duro icono\" loading=\"lazy\" /></div>\\n<div class=\"fw7 f6 pl2\">Enfriamiento:<br>\\n<span class=\"fw4 lh-copy\"> AMD Wraith</span></div>\\n</li>\\n</ul>\\n</a>\\n</div>\\n</div>\\n<div class=\"h-featured-pc-card flex flex-row mr0-ns mr3\">\\n<div class=\"build_card pv3 ph3-ns ph2 w-95-ns w-100 center tl\">\\n<a class=\"white no-underline\" href=\"https://spartangeek.com/pc/gladius-60i-x?utm_source=internal&amp;utm_campaign=home\">\\n<div class=\"config_pc_mask\">\\n<div class=\"config_pc_label f6\">\\n<i class=\"far fa-sliders-v\"></i> Configurar esta PC\\n</div>\\n</div>\\n<div class=\"relative tc\">\\n<img loading=\"lazy\" width=\"208\" height=\"208\" alt=\"Gladius 60i X\" src=\"//assets.spartangeek.com/cc/_showcaseSmall/40604/Skribble-0-Spartan.webp\" />\\n<div class=\"absolute bottom-0 left-0\">\\n<span class=\"pc_sale_label \">Oferta</span>\\n</div>\\n<div class=\"absolute top-0 right-0\">\\n<img src=\"/assets/images/showcase/intel_tag.svg\" alt />\\n<img class=\"db tr\" src=\"/assets/images/showcase/nvidia_tag.svg\" alt=\"PC Gamer con Procesadores Ryzen\">\\n</div>\\n</div>\\n<h3 class=\"f5 mv0 pt2\">Computadoras Gamer Gladius 60i X</h3>\\n<div class=\"f7 pv0 mv0\">Ármala desde <br>\\n<span class=\"sale_price strike f6 fw5\">$39,590</span>\\n<span class=\"f3 b\">$34,620</span>\\n</div>\\n<ul class=\"list pl0\">\\n<li class=\"flex flex-wrap items-center mb3\">\\n<div><img class=\"yipicon\" width=\"31\" height=\"31\" src=\"/assets/images/showcase/icons/sq-gpu.svg\" alt=\"Tarjeta de video icono\" /></div>\\n<div class=\"fw7 f6 pl2\">Tarjeta de video:<br><span class=\"fw4\"> RTX 4070 Ti 12GB </span></div>\\n</li>\\n<li class=\"flex flex-wrap items-center mb3\">\\n<div><img class=\"cpuicon\" width=\"31\" height=\"31\" src=\"/assets/images/showcase/icons/sq-cpu.svg\" alt=\"procesador icono\" loading=\"lazy\" /></div>\\n<div class=\"fw7 f6 pl2\">Procesador:<br><span class=\"fw4 lh-copy\"> Intel i5 13th Gen</span></div>\\n</li>\\n<li class=\"flex flex-wrap items-center mb3\">\\n<div><img class=\"ramicon\" width=\"31\" height=\"31\" src=\"/assets/images/showcase/icons/sq-ram.svg\" alt=\"Ram Icono\" loading=\"lazy\" /></div>\\n<div class=\"fw7 f6 pl2\">RAM:<br><span class=\"fw4 lh-copy\">16GB DDR4</span></div>\\n</li>\\n<li class=\"flex flex-wrap items-center mb3\">\\n<div><img class=\"storageicon\" width=\"31\" height=\"31\" src=\"/assets/images/showcase/icons/sq-hd.svg\" alt=\"Disco duro icono\" loading=\"lazy\" /></div>\\n<div class=\"fw7 f6 pl2\">Almacenamiento:<br>\\n<span class=\"fw4 lh-copy\"> + 1TB SSD NVME SSD</span></div>\\n</li>\\n<li class=\"flex flex-wrap items-center mb3\">\\n<div><img class=\"fanicon\" width=\"31\" height=\"31\" src=\"/assets/images/showcase/icons/sq-fan.svg\" alt=\"Disco duro icono\" loading=\"lazy\" /></div>\\n<div class=\"fw7 f6 pl2\">Enfriamiento:<br>\\n<span class=\"fw4 lh-copy\"> High Performance</span></div>\\n</li>\\n</ul>\\n</a>\\n</div>\\n</div>\\n<div class=\"h-featured-pc-card flex flex-row mr0-ns mr3\">\\n<div class=\"build_card pv3 ph3-ns ph2 w-95-ns w-100 center tl\">\\n<a class=\"white no-underline\" href=\"https://spartangeek.com/pc/stelios-70z?utm_source=internal&amp;utm_campaign=home\">\\n<div class=\"config_pc_mask\">\\n<div class=\"config_pc_label f6\">\\n<i class=\"far fa-sliders-v\"></i> Configurar esta PC\\n</div>\\n</div>\\n<div class=\"relative tc\">\\n<img loading=\"lazy\" width=\"208\" height=\"208\" alt=\"Stelios 70z\" src=\"//assets.spartangeek.com/cc/_showcaseSmall/43888/NZXT-H7-Elite-Negro-3.webp\" />\\n<div class=\"absolute bottom-0 left-0\">\\n<span class=\"pc_sale_label \">Oferta</span>\\n</div>\\n<div class=\"absolute top-0 right-0\">\\n<img src=\"/assets/images/showcase/ryzen_tag.svg\" alt />\\n<img class=\"db tr\" src=\"/assets/images/showcase/nvidia_tag.svg\" alt=\"PC Gamer con Procesadores Ryzen\">\\n</div>\\n</div>\\n<h3 class=\"f5 mv0 pt2\">Computadoras Gamer Stelios 70z</h3>\\n<div class=\"f7 pv0 mv0\">Ármala desde <br>\\n<span class=\"sale_price strike f6 fw5\">$30,670</span>\\n<span class=\"f3 b\">$26,835</span>\\n</div>\\n<ul class=\"list pl0\">\\n<li class=\"flex flex-wrap items-center mb3\">\\n<div><img class=\"yipicon\" width=\"31\" height=\"31\" src=\"/assets/images/showcase/icons/sq-gpu.svg\" alt=\"Tarjeta de video icono\" /></div>\\n<div class=\"fw7 f6 pl2\">Tarjeta de video:<br><span class=\"fw4\"> RTX 4060 Ti 8GB</span></div>\\n</li>\\n<li class=\"flex flex-wrap items-center mb3\">\\n<div><img class=\"cpuicon\" width=\"31\" height=\"31\" src=\"/assets/images/showcase/icons/sq-cpu.svg\" alt=\"procesador icono\" loading=\"lazy\" /></div>\\n<div class=\"fw7 f6 pl2\">Procesador:<br><span class=\"fw4 lh-copy\"> Ryzen 5 7600X (6 Núcleos)</span></div>\\n</li>\\n<li class=\"flex flex-wrap items-center mb3\">\\n<div><img class=\"ramicon\" width=\"31\" height=\"31\" src=\"/assets/images/showcase/icons/sq-ram.svg\" alt=\"Ram Icono\" loading=\"lazy\" /></div>\\n<div class=\"fw7 f6 pl2\">RAM:<br><span class=\"fw4 lh-copy\">16GB DDR5</span></div>\\n</li>\\n<li class=\"flex flex-wrap items-center mb3\">\\n<div><img class=\"storageicon\" width=\"31\" height=\"31\" src=\"/assets/images/showcase/icons/sq-hd.svg\" alt=\"Disco duro icono\" loading=\"lazy\" /></div>\\n<div class=\"fw7 f6 pl2\">Almacenamiento:<br>\\n<span class=\"fw4 lh-copy\"> + 1TB SSD NVME SSD</span></div>\\n</li>\\n<li class=\"flex flex-wrap items-center mb3\">\\n<div><img class=\"fanicon\" width=\"31\" height=\"31\" src=\"/assets/images/showcase/icons/sq-fan.svg\" alt=\"Disco duro icono\" loading=\"lazy\" /></div>\\n<div class=\"fw7 f6 pl2\">Enfriamiento:<br>\\n<span class=\"fw4 lh-copy\"> High Performance</span></div>\\n</li>\\n</ul>\\n</a>\\n</div>\\n</div>\\n<div class=\"h-featured-pc-card flex flex-row mr0-ns mr3\">\\n<div class=\"build_card pv3 ph3-ns ph2 w-95-ns w-100 center tl\">\\n<a class=\"white no-underline\" href=\"https://spartangeek.com/pc/stelios-80z?utm_source=internal&amp;utm_campaign=home\">\\n<div class=\"config_pc_mask\">\\n<div class=\"config_pc_label f6\">\\n<i class=\"far fa-sliders-v\"></i> Configurar esta PC\\n</div>\\n</div>\\n<div class=\"relative tc\">\\n<img loading=\"lazy\" width=\"208\" height=\"208\" alt=\"Stelios 80z\" src=\"//assets.spartangeek.com/cc/_showcaseSmall/43466/T-FORCE-x-InWin-216-1.webp\" />\\n<div class=\"absolute bottom-0 left-0\">\\n<span class=\"pc_sale_label \">Oferta</span>\\n</div>\\n<div class=\"absolute top-0 right-0\">\\n<img src=\"/assets/images/showcase/ryzen_tag.svg\" alt />\\n<img class=\"db tr\" src=\"/assets/images/showcase/nvidia_tag.svg\" alt=\"PC Gamer con Procesadores Ryzen\">\\n</div>\\n</div>\\n<h3 class=\"f5 mv0 pt2\">Computadoras Gamer Stelios 80z</h3>\\n<div class=\"f7 pv0 mv0\">Ármala desde <br>\\n<span class=\"sale_price strike f6 fw5\">$37,589</span>\\n<span class=\"f3 b\">$32,189</span>\\n</div>\\n<ul class=\"list pl0\">\\n<li class=\"flex flex-wrap items-center mb3\">\\n<div><img class=\"yipicon\" width=\"31\" height=\"31\" src=\"/assets/images/showcase/icons/sq-gpu.svg\" alt=\"Tarjeta de video icono\" /></div>\\n<div class=\"fw7 f6 pl2\">Tarjeta de video:<br><span class=\"fw4\"> RTX 4070 Ti 12GB </span></div>\\n</li>\\n<li class=\"flex flex-wrap items-center mb3\">\\n<div><img class=\"cpuicon\" width=\"31\" height=\"31\" src=\"/assets/images/showcase/icons/sq-cpu.svg\" alt=\"procesador icono\" loading=\"lazy\" /></div>\\n<div class=\"fw7 f6 pl2\">Procesador:<br><span class=\"fw4 lh-copy\"> Ryzen 5 7600X (6 Núcleos)</span></div>\\n</li>\\n<li class=\"flex flex-wrap items-center mb3\">\\n<div><img class=\"ramicon\" width=\"31\" height=\"31\" src=\"/assets/images/showcase/icons/sq-ram.svg\" alt=\"Ram Icono\" loading=\"lazy\" /></div>\\n<div class=\"fw7 f6 pl2\">RAM:<br><span class=\"fw4 lh-copy\">16GB DDR5</span></div>\\n</li>\\n<li class=\"flex flex-wrap items-center mb3\">\\n<div><img class=\"storageicon\" width=\"31\" height=\"31\" src=\"/assets/images/showcase/icons/sq-hd.svg\" alt=\"Disco duro icono\" loading=\"lazy\" /></div>\\n<div class=\"fw7 f6 pl2\">Almacenamiento:<br>\\n<span class=\"fw4 lh-copy\"> 1TB + 1TB NVME SSD</span></div>\\n</li>\\n<li class=\"flex flex-wrap items-center mb3\">\\n<div><img class=\"fanicon\" width=\"31\" height=\"31\" src=\"/assets/images/showcase/icons/sq-fan.svg\" alt=\"Disco duro icono\" loading=\"lazy\" /></div>\\n<div class=\"fw7 f6 pl2\">Enfriamiento:<br>\\n<span class=\"fw4 lh-copy\"> High Performance</span></div>\\n</li>\\n</ul>\\n</a>\\n</div>\\n</div>\\n</div>\\n<h2>¿Cuánto cuesta una PC gamer de gama alta?</h2>\\n<p>Una computadora gamer de gama alta puede costar <strong>más de $40,000 pesos</strong> y el cielo es el límite. Pero la recompensa son mejores gráficos, lo cual es siempre el objetivo en una PC gamer.</p>\\n<p>Puedes obtener <strong>tarjetas de video de nueva generación</strong> con la <a href=\"https://spartangeek.com/pc/stelios-70i\" target=\"_blank\" rel=\"noreferrer noopener\">Stelios 70i</a>, que por $48,480 te ofrece GPU Nvidia RTX 3070 y un procesador Intel Core i5 de novena generación. Si buscas más potencia de procesamiento, la <a href=\"https://spartangeek.com/pc/stelios-70z\" target=\"_blank\" rel=\"noreferrer noopener\">Stelios 70z</a> viene con CPU Ryzen 7 3700X y la misma RTX 3070.</p>\\n<p>En el <strong>rango de los $60,000</strong> puedes elegir entre una <a href=\"https://spartangeek.com/pc/stelios-80i\" target=\"_blank\" rel=\"noreferrer noopener\">PC</a> con procesador Intel i5 de décima generación y RTX 3080 o una <a href=\"https://spartangeek.com/pc/thanos-2080i\" target=\"_blank\" rel=\"noreferrer noopener\">computadora</a> con CPU Intel i9 de novena generación y gráficos RTX 2080.</p>\\n<p>En el <strong>rango de los $100,000</strong> en adelante encuentras <a href=\"https://spartangeek.com/pc/telios-zx\" target=\"_blank\" rel=\"noreferrer noopener\">PCs</a> con procesadores Ryzen 9, gráficos RTX 3090 y memoria RAM de 64 GB.</p>\\n<p><br/></p>\\n<hr class=\"sg-divider mb3\">\\n<div class=\"flex flex-wrap items-center justify-between buildsHeader\">\\n<div class=\"w-70-ns w-100 \">\\n<h2 class=\"mv0 pv0\">Las Mejores PC Gamer Gama Alta</h2>\\n<p class=\"lh-copy f5\"></p>\\n</div>\\n<div class=\"w-auto  dn flex-ns flex-wrap items-center\">\\n<div class=\"pr3\"><a class=\"db\" href=\"https://spartangeek.com/showcase/pc-gamer?sort=priceAsc&amp;priceRange=3#showcase\">Ver todo</a></div>\\n<div>\\n<button data-target=\"hScroll6\" class=\"slideLeft hScroll_btn dim\">\\n<i class=\"fa-sharp fa-regular fa-angle-left\"></i>\\n</button>\\n<button data-target=\"hScroll6\" class=\"slideRight hScroll_btn dim\">\\n<i class=\"fa-sharp fa-regular fa-angle-right\"></i>\\n</button>\\n</div>\\n</div>\\n</div>\\n<hr class=\"sg-divider\">\\n<div class=\"horizontal_overflow_wrapper pv4 \" id=\"hScroll6\">\\n<div class=\"h-featured-pc-card flex flex-row mr0-ns mr3\">\\n<div class=\"build_card pv3 ph3-ns ph2 w-95-ns w-100 center tl\">\\n<a class=\"white no-underline\" href=\"https://spartangeek.com/pc/thanos-60i?utm_source=internal&amp;utm_campaign=home\">\\n<div class=\"config_pc_mask\">\\n<div class=\"config_pc_label f6\">\\n<i class=\"far fa-sliders-v\"></i> Configurar esta PC\\n</div>\\n</div>\\n<div class=\"relative tc\">\\n<img loading=\"lazy\" width=\"208\" height=\"208\" alt=\"Thanos 60i\" src=\"//assets.spartangeek.com/cc/_showcaseSmall/37274/Aerocool-Visor-1.webp\" />\\n<div class=\"absolute bottom-0 left-0\">\\n<span class=\"pc_sale_label \">Oferta</span>\\n</div>\\n<div class=\"absolute top-0 right-0\">\\n<img src=\"/assets/images/showcase/intel_tag.svg\" alt />\\n<img class=\"db tr\" src=\"/assets/images/showcase/nvidia_tag.svg\" alt=\"PC Gamer con Procesadores Ryzen\">\\n</div>\\n</div>\\n<h3 class=\"f5 mv0 pt2\">Computadoras Gamer Thanos 60i</h3>\\n<div class=\"f7 pv0 mv0\">Ármala desde <br>\\n<span class=\"sale_price strike f6 fw5\">$44,389</span>\\n<span class=\"f3 b\">$42,519</span>\\n</div>\\n<ul class=\"list pl0\">\\n<li class=\"flex flex-wrap items-center mb3\">\\n<div><img class=\"yipicon\" width=\"31\" height=\"31\" src=\"/assets/images/showcase/icons/sq-gpu.svg\" alt=\"Tarjeta de video icono\" /></div>\\n<div class=\"fw7 f6 pl2\">Tarjeta de video:<br><span class=\"fw4\"> RTX 4060 8GB</span></div>\\n</li>\\n<li class=\"flex flex-wrap items-center mb3\">\\n<div><img class=\"cpuicon\" width=\"31\" height=\"31\" src=\"/assets/images/showcase/icons/sq-cpu.svg\" alt=\"procesador icono\" loading=\"lazy\" /></div>\\n<div class=\"fw7 f6 pl2\">Procesador:<br><span class=\"fw4 lh-copy\"> Intel i7 13th Gen</span></div>\\n</li>\\n<li class=\"flex flex-wrap items-center mb3\">\\n<div><img class=\"ramicon\" width=\"31\" height=\"31\" src=\"/assets/images/showcase/icons/sq-ram.svg\" alt=\"Ram Icono\" loading=\"lazy\" /></div>\\n<div class=\"fw7 f6 pl2\">RAM:<br><span class=\"fw4 lh-copy\">16GB DDR4</span></div>\\n</li>\\n<li class=\"flex flex-wrap items-center mb3\">\\n<div><img class=\"storageicon\" width=\"31\" height=\"31\" src=\"/assets/images/showcase/icons/sq-hd.svg\" alt=\"Disco duro icono\" loading=\"lazy\" /></div>\\n<div class=\"fw7 f6 pl2\">Almacenamiento:<br>\\n<span class=\"fw4 lh-copy\"> + 1TB SSD NVME SSD</span></div>\\n</li>\\n<li class=\"flex flex-wrap items-center mb3\">\\n<div><img class=\"fanicon\" width=\"31\" height=\"31\" src=\"/assets/images/showcase/icons/sq-fan.svg\" alt=\"Disco duro icono\" loading=\"lazy\" /></div>\\n<div class=\"fw7 f6 pl2\">Enfriamiento:<br>\\n<span class=\"fw4 lh-copy\"> Líquido de 240mm</span></div>\\n</li>\\n</ul>\\n</a>\\n</div>\\n</div>\\n<div class=\"h-featured-pc-card flex flex-row mr0-ns mr3\">\\n<div class=\"build_card pv3 ph3-ns ph2 w-95-ns w-100 center tl\">\\n<a class=\"white no-underline\" href=\"https://spartangeek.com/pc/thanos-70i-x?utm_source=internal&amp;utm_campaign=home\">\\n<div class=\"config_pc_mask\">\\n<div class=\"config_pc_label f6\">\\n<i class=\"far fa-sliders-v\"></i> Configurar esta PC\\n</div>\\n</div>\\n<div class=\"relative tc\">\\n<img loading=\"lazy\" width=\"208\" height=\"208\" alt=\"Thanos 70i X\" src=\"//assets.spartangeek.com/cc/_showcaseSmall/43895/NZXT-H7-Elite-Blanco-1.webp\" />\\n<div class=\"absolute bottom-0 left-0\">\\n<span class=\"pc_sale_label \">Oferta</span>\\n</div>\\n<div class=\"absolute top-0 right-0\">\\n<img src=\"/assets/images/showcase/intel_tag.svg\" alt />\\n<img class=\"db tr\" src=\"/assets/images/showcase/nvidia_tag.svg\" alt=\"PC Gamer con Procesadores Ryzen\">\\n</div>\\n</div>\\n<h3 class=\"f5 mv0 pt2\">Computadoras Gamer Thanos 70i X</h3>\\n<div class=\"f7 pv0 mv0\">Ármala desde <br>\\n<span class=\"sale_price strike f6 fw5\">$43,949</span>\\n<span class=\"f3 b\">$39,949</span>\\n</div>\\n<ul class=\"list pl0\">\\n<li class=\"flex flex-wrap items-center mb3\">\\n<div><img class=\"yipicon\" width=\"31\" height=\"31\" src=\"/assets/images/showcase/icons/sq-gpu.svg\" alt=\"Tarjeta de video icono\" /></div>\\n<div class=\"fw7 f6 pl2\">Tarjeta de video:<br><span class=\"fw4\"> RTX 4070 12GB</span></div>\\n</li>\\n<li class=\"flex flex-wrap items-center mb3\">\\n<div><img class=\"cpuicon\" width=\"31\" height=\"31\" src=\"/assets/images/showcase/icons/sq-cpu.svg\" alt=\"procesador icono\" loading=\"lazy\" /></div>\\n<div class=\"fw7 f6 pl2\">Procesador:<br><span class=\"fw4 lh-copy\"> Intel i7 13th Gen</span></div>\\n</li>\\n<li class=\"flex flex-wrap items-center mb3\">\\n<div><img class=\"ramicon\" width=\"31\" height=\"31\" src=\"/assets/images/showcase/icons/sq-ram.svg\" alt=\"Ram Icono\" loading=\"lazy\" /></div>\\n<div class=\"fw7 f6 pl2\">RAM:<br><span class=\"fw4 lh-copy\">16GB DDR4</span></div>\\n</li>\\n<li class=\"flex flex-wrap items-center mb3\">\\n<div><img class=\"storageicon\" width=\"31\" height=\"31\" src=\"/assets/images/showcase/icons/sq-hd.svg\" alt=\"Disco duro icono\" loading=\"lazy\" /></div>\\n<div class=\"fw7 f6 pl2\">Almacenamiento:<br>\\n<span class=\"fw4 lh-copy\"> + 1TB SSD NVME SSD</span></div>\\n</li>\\n<li class=\"flex flex-wrap items-center mb3\">\\n<div><img class=\"fanicon\" width=\"31\" height=\"31\" src=\"/assets/images/showcase/icons/sq-fan.svg\" alt=\"Disco duro icono\" loading=\"lazy\" /></div>\\n<div class=\"fw7 f6 pl2\">Enfriamiento:<br>\\n<span class=\"fw4 lh-copy\"> Líquido de 240mm</span></div>\\n</li>\\n</ul>\\n</a>\\n</div>\\n</div>\\n<div class=\"h-featured-pc-card flex flex-row mr0-ns mr3\">\\n<div class=\"build_card pv3 ph3-ns ph2 w-95-ns w-100 center tl\">\\n<a class=\"white no-underline\" href=\"https://spartangeek.com/pc/thanos-80i-x?utm_source=internal&amp;utm_campaign=home\">\\n<div class=\"config_pc_mask\">\\n<div class=\"config_pc_label f6\">\\n<i class=\"far fa-sliders-v\"></i> Configurar esta PC\\n</div>\\n</div>\\n<div class=\"relative tc\">\\n<img loading=\"lazy\" width=\"208\" height=\"208\" alt=\"Thanos 80i X\" src=\"//assets.spartangeek.com/cc/_showcaseSmall/43416/Gabinete-Corsair-5000T-Black-1.webp\" />\\n<div class=\"absolute bottom-0 left-0\">\\n</div>\\n<div class=\"absolute top-0 right-0\">\\n<img src=\"/assets/images/showcase/intel_tag.svg\" alt />\\n<img class=\"db tr\" src=\"/assets/images/showcase/nvidia_tag.svg\" alt=\"PC Gamer con Procesadores Ryzen\">\\n</div>\\n</div>\\n<h3 class=\"f5 mv0 pt2\">Computadoras Gamer Thanos 80i X</h3>\\n<div class=\"f7 pv0 mv0\">Ármala desde <br>\\n<span class=\"f3 b\">$55,029</span>\\n</div>\\n<ul class=\"list pl0\">\\n<li class=\"flex flex-wrap items-center mb3\">\\n<div><img class=\"yipicon\" width=\"31\" height=\"31\" src=\"/assets/images/showcase/icons/sq-gpu.svg\" alt=\"Tarjeta de video icono\" /></div>\\n<div class=\"fw7 f6 pl2\">Tarjeta de video:<br><span class=\"fw4\"> RTX 4060 Ti 8GB</span></div>\\n</li>\\n<li class=\"flex flex-wrap items-center mb3\">\\n<div><img class=\"cpuicon\" width=\"31\" height=\"31\" src=\"/assets/images/showcase/icons/sq-cpu.svg\" alt=\"procesador icono\" loading=\"lazy\" /></div>\\n<div class=\"fw7 f6 pl2\">Procesador:<br><span class=\"fw4 lh-copy\"> Intel i7 12th Gen</span></div>\\n</li>\\n<li class=\"flex flex-wrap items-center mb3\">\\n<div><img class=\"ramicon\" width=\"31\" height=\"31\" src=\"/assets/images/showcase/icons/sq-ram.svg\" alt=\"Ram Icono\" loading=\"lazy\" /></div>\\n<div class=\"fw7 f6 pl2\">RAM:<br><span class=\"fw4 lh-copy\">16GB DDR4</span></div>\\n</li>\\n<li class=\"flex flex-wrap items-center mb3\">\\n<div><img class=\"storageicon\" width=\"31\" height=\"31\" src=\"/assets/images/showcase/icons/sq-hd.svg\" alt=\"Disco duro icono\" loading=\"lazy\" /></div>\\n<div class=\"fw7 f6 pl2\">Almacenamiento:<br>\\n<span class=\"fw4 lh-copy\"> 2TB + 240GB SSD</span></div>\\n</li>\\n<li class=\"flex flex-wrap items-center mb3\">\\n<div><img class=\"fanicon\" width=\"31\" height=\"31\" src=\"/assets/images/showcase/icons/sq-fan.svg\" alt=\"Disco duro icono\" loading=\"lazy\" /></div>\\n<div class=\"fw7 f6 pl2\">Enfriamiento:<br>\\n<span class=\"fw4 lh-copy\"> Líquido de 240mm</span></div>\\n</li>\\n</ul>\\n</a>\\n</div>\\n</div>\\n<div class=\"h-featured-pc-card flex flex-row mr0-ns mr3\">\\n<div class=\"build_card pv3 ph3-ns ph2 w-95-ns w-100 center tl\">\\n<a class=\"white no-underline\" href=\"https://spartangeek.com/pc/hyperion-90i-x?utm_source=internal&amp;utm_campaign=home\">\\n<div class=\"config_pc_mask\">\\n<div class=\"config_pc_label f6\">\\n<i class=\"far fa-sliders-v\"></i> Configurar esta PC\\n</div>\\n</div>\\n<div class=\"relative tc\">\\n<img loading=\"lazy\" width=\"208\" height=\"208\" alt=\"Hyperion 90i X\" src=\"//assets.spartangeek.com/cc/_showcaseSmall/16087/rog-strix-helios-2.webp\" />\\n<div class=\"absolute bottom-0 left-0\">\\n</div>\\n<div class=\"absolute top-0 right-0\">\\n<img src=\"/assets/images/showcase/intel_tag.svg\" alt />\\n<img class=\"db tr\" src=\"/assets/images/showcase/nvidia_tag.svg\" alt=\"PC Gamer con Procesadores Ryzen\">\\n</div>\\n</div>\\n<h3 class=\"f5 mv0 pt2\">Computadoras Gamer Hyperion 90i X</h3>\\n<div class=\"f7 pv0 mv0\">Ármala desde <br>\\n<span class=\"f3 b\">$98,572</span>\\n</div>\\n<ul class=\"list pl0\">\\n<li class=\"flex flex-wrap items-center mb3\">\\n<div><img class=\"yipicon\" width=\"31\" height=\"31\" src=\"/assets/images/showcase/icons/sq-gpu.svg\" alt=\"Tarjeta de video icono\" /></div>\\n<div class=\"fw7 f6 pl2\">Tarjeta de video:<br><span class=\"fw4\"> RTX 4080 16GB</span></div>\\n</li>\\n<li class=\"flex flex-wrap items-center mb3\">\\n<div><img class=\"cpuicon\" width=\"31\" height=\"31\" src=\"/assets/images/showcase/icons/sq-cpu.svg\" alt=\"procesador icono\" loading=\"lazy\" /></div>\\n<div class=\"fw7 f6 pl2\">Procesador:<br><span class=\"fw4 lh-copy\"> Intel i5 13th Gen</span></div>\\n</li>\\n<li class=\"flex flex-wrap items-center mb3\">\\n<div><img class=\"ramicon\" width=\"31\" height=\"31\" src=\"/assets/images/showcase/icons/sq-ram.svg\" alt=\"Ram Icono\" loading=\"lazy\" /></div>\\n<div class=\"fw7 f6 pl2\">RAM:<br><span class=\"fw4 lh-copy\">16GB DDR4</span></div>\\n</li>\\n<li class=\"flex flex-wrap items-center mb3\">\\n<div><img class=\"storageicon\" width=\"31\" height=\"31\" src=\"/assets/images/showcase/icons/sq-hd.svg\" alt=\"Disco duro icono\" loading=\"lazy\" /></div>\\n<div class=\"fw7 f6 pl2\">Almacenamiento:<br>\\n<span class=\"fw4 lh-copy\"> 1TB + 240GB NVME SSD</span></div>\\n</li>\\n<li class=\"flex flex-wrap items-center mb3\">\\n<div><img class=\"fanicon\" width=\"31\" height=\"31\" src=\"/assets/images/showcase/icons/sq-fan.svg\" alt=\"Disco duro icono\" loading=\"lazy\" /></div>\\n<div class=\"fw7 f6 pl2\">Enfriamiento:<br>\\n<span class=\"fw4 lh-copy\"> High Performance</span></div>\\n</li>\\n</ul>\\n</a>\\n</div>\\n</div>\\n<div class=\"h-featured-pc-card flex flex-row mr0-ns mr3\">\\n<div class=\"build_card pv3 ph3-ns ph2 w-95-ns w-100 center tl\">\\n<a class=\"white no-underline\" href=\"https://spartangeek.com/pc/stelios-90z?utm_source=internal&amp;utm_campaign=home\">\\n<div class=\"config_pc_mask\">\\n<div class=\"config_pc_label f6\">\\n<i class=\"far fa-sliders-v\"></i> Configurar esta PC\\n</div>\\n</div>\\n<div class=\"relative tc\">\\n<img loading=\"lazy\" width=\"208\" height=\"208\" alt=\"Stelios 90z\" src=\"//assets.spartangeek.com/cc/_showcaseSmall/43885/NZXT-H9-Elite-Blanco-1.webp\" />\\n<div class=\"absolute bottom-0 left-0\">\\n<span class=\"pc_sale_label \">Oferta</span>\\n</div>\\n<div class=\"absolute top-0 right-0\">\\n<img src=\"/assets/images/showcase/ryzen_tag.svg\" alt />\\n<img class=\"db tr\" src=\"/assets/images/showcase/nvidia_tag.svg\" alt=\"PC Gamer con Procesadores Ryzen\">\\n</div>\\n</div>\\n<h3 class=\"f5 mv0 pt2\">Computadoras Gamer Stelios 90z</h3>\\n<div class=\"f7 pv0 mv0\">Ármala desde <br>\\n<span class=\"sale_price strike f6 fw5\">$65,630</span>\\n<span class=\"f3 b\">$62,500</span>\\n</div>\\n<ul class=\"list pl0\">\\n<li class=\"flex flex-wrap items-center mb3\">\\n<div><img class=\"yipicon\" width=\"31\" height=\"31\" src=\"/assets/images/showcase/icons/sq-gpu.svg\" alt=\"Tarjeta de video icono\" /></div>\\n<div class=\"fw7 f6 pl2\">Tarjeta de video:<br><span class=\"fw4\"> RTX 4080 16GB</span></div>\\n</li>\\n<li class=\"flex flex-wrap items-center mb3\">\\n<div><img class=\"cpuicon\" width=\"31\" height=\"31\" src=\"/assets/images/showcase/icons/sq-cpu.svg\" alt=\"procesador icono\" loading=\"lazy\" /></div>\\n<div class=\"fw7 f6 pl2\">Procesador:<br><span class=\"fw4 lh-copy\"> Ryzen 9 7900 (12 Núcleos)</span></div>\\n</li>\\n<li class=\"flex flex-wrap items-center mb3\">\\n<div><img class=\"ramicon\" width=\"31\" height=\"31\" src=\"/assets/images/showcase/icons/sq-ram.svg\" alt=\"Ram Icono\" loading=\"lazy\" /></div>\\n<div class=\"fw7 f6 pl2\">RAM:<br><span class=\"fw4 lh-copy\">32GB DDR5</span></div>\\n</li>\\n<li class=\"flex flex-wrap items-center mb3\">\\n<div><img class=\"storageicon\" width=\"31\" height=\"31\" src=\"/assets/images/showcase/icons/sq-hd.svg\" alt=\"Disco duro icono\" loading=\"lazy\" /></div>\\n<div class=\"fw7 f6 pl2\">Almacenamiento:<br>\\n<span class=\"fw4 lh-copy\"> 1TB HDD + 1TB SSD NVME SSD</span></div>\\n</li>\\n<li class=\"flex flex-wrap items-center mb3\">\\n<div><img class=\"fanicon\" width=\"31\" height=\"31\" src=\"/assets/images/showcase/icons/sq-fan.svg\" alt=\"Disco duro icono\" loading=\"lazy\" /></div>\\n<div class=\"fw7 f6 pl2\">Enfriamiento:<br>\\n<span class=\"fw4 lh-copy\"> Líquido de 360mm</span></div>\\n</li>\\n</ul>\\n</a>\\n</div>\\n</div>\\n<div class=\"h-featured-pc-card flex flex-row mr0-ns mr3\">\\n<div class=\"build_card pv3 ph3-ns ph2 w-95-ns w-100 center tl\">\\n<a class=\"white no-underline\" href=\"https://spartangeek.com/pc/stelios-70i?utm_source=internal&amp;utm_campaign=home\">\\n<div class=\"config_pc_mask\">\\n<div class=\"config_pc_label f6\">\\n<i class=\"far fa-sliders-v\"></i> Configurar esta PC\\n</div>\\n</div>\\n<div class=\"relative tc\">\\n<img loading=\"lazy\" width=\"208\" height=\"208\" alt=\"Stelios 70i\" src=\"//assets.spartangeek.com/cc/_showcaseSmall/46798/NZXT-H5-Flow-Negro-0.webp\" />\\n<div class=\"absolute bottom-0 left-0\">\\n<span class=\"pc_sale_label \">Oferta</span>\\n</div>\\n<div class=\"absolute top-0 right-0\">\\n<img src=\"/assets/images/showcase/intel_tag.svg\" alt />\\n<img class=\"db tr\" src=\"/assets/images/showcase/nvidia_tag.svg\" alt=\"PC Gamer con Procesadores Ryzen\">\\n</div>\\n</div>\\n<h3 class=\"f5 mv0 pt2\">Computadoras Gamer Stelios 70i</h3>\\n<div class=\"f7 pv0 mv0\">Ármala desde <br>\\n<span class=\"sale_price strike f6 fw5\">$54,100</span>\\n<span class=\"f3 b\">$51,650</span>\\n</div>\\n<ul class=\"list pl0\">\\n<li class=\"flex flex-wrap items-center mb3\">\\n<div><img class=\"yipicon\" width=\"31\" height=\"31\" src=\"/assets/images/showcase/icons/sq-gpu.svg\" alt=\"Tarjeta de video icono\" /></div>\\n<div class=\"fw7 f6 pl2\">Tarjeta de video:<br><span class=\"fw4\"> RTX 4060 Ti 8GB</span></div>\\n</li>\\n<li class=\"flex flex-wrap items-center mb3\">\\n<div><img class=\"cpuicon\" width=\"31\" height=\"31\" src=\"/assets/images/showcase/icons/sq-cpu.svg\" alt=\"procesador icono\" loading=\"lazy\" /></div>\\n<div class=\"fw7 f6 pl2\">Procesador:<br><span class=\"fw4 lh-copy\"> Intel i9 13th Gen</span></div>\\n</li>\\n<li class=\"flex flex-wrap items-center mb3\">\\n<div><img class=\"ramicon\" width=\"31\" height=\"31\" src=\"/assets/images/showcase/icons/sq-ram.svg\" alt=\"Ram Icono\" loading=\"lazy\" /></div>\\n<div class=\"fw7 f6 pl2\">RAM:<br><span class=\"fw4 lh-copy\">16GB DDR4</span></div>\\n</li>\\n<li class=\"flex flex-wrap items-center mb3\">\\n<div><img class=\"storageicon\" width=\"31\" height=\"31\" src=\"/assets/images/showcase/icons/sq-hd.svg\" alt=\"Disco duro icono\" loading=\"lazy\" /></div>\\n<div class=\"fw7 f6 pl2\">Almacenamiento:<br>\\n<span class=\"fw4 lh-copy\"> 1TB + 250GB NVME SSD</span></div>\\n</li>\\n<li class=\"flex flex-wrap items-center mb3\">\\n<div><img class=\"fanicon\" width=\"31\" height=\"31\" src=\"/assets/images/showcase/icons/sq-fan.svg\" alt=\"Disco duro icono\" loading=\"lazy\" /></div>\\n<div class=\"fw7 f6 pl2\">Enfriamiento:<br>\\n<span class=\"fw4 lh-copy\"> Líquido de 360mm</span></div>\\n</li>\\n</ul>\\n</a>\\n</div>\\n</div>\\n<div class=\"h-featured-pc-card flex flex-row mr0-ns mr3\">\\n<div class=\"build_card pv3 ph3-ns ph2 w-95-ns w-100 center tl\">\\n<a class=\"white no-underline\" href=\"https://spartangeek.com/pc/telios-zx?utm_source=internal&amp;utm_campaign=home\">\\n<div class=\"config_pc_mask\">\\n<div class=\"config_pc_label f6\">\\n<i class=\"far fa-sliders-v\"></i> Configurar esta PC\\n</div>\\n</div>\\n<div class=\"relative tc\">\\n<img loading=\"lazy\" width=\"208\" height=\"208\" alt=\"Telios ZX\" src=\"//assets.spartangeek.com/cc/_showcaseSmall/43840/DeepCool-Quadstellar-Infinity-1.webp\" />\\n<div class=\"absolute bottom-0 left-0\">\\n<span class=\"pc_sale_label \">Oferta</span>\\n</div>\\n<div class=\"absolute top-0 right-0\">\\n<img src=\"/assets/images/showcase/ryzen_tag.svg\" alt />\\n<img class=\"db tr\" src=\"/assets/images/showcase/nvidia_tag.svg\" alt=\"PC Gamer con Procesadores Ryzen\">\\n</div>\\n</div>\\n<h3 class=\"f5 mv0 pt2\">Computadoras Gamer Telios ZX</h3>\\n<div class=\"f7 pv0 mv0\">Ármala desde <br>\\n<span class=\"sale_price strike f6 fw5\">$90,725</span>\\n<span class=\"f3 b\">$88,190</span>\\n</div>\\n<ul class=\"list pl0\">\\n<li class=\"flex flex-wrap items-center mb3\">\\n<div><img class=\"yipicon\" width=\"31\" height=\"31\" src=\"/assets/images/showcase/icons/sq-gpu.svg\" alt=\"Tarjeta de video icono\" /></div>\\n<div class=\"fw7 f6 pl2\">Tarjeta de video:<br><span class=\"fw4\"> RTX 4090 24GB</span></div>\\n</li>\\n<li class=\"flex flex-wrap items-center mb3\">\\n<div><img class=\"cpuicon\" width=\"31\" height=\"31\" src=\"/assets/images/showcase/icons/sq-cpu.svg\" alt=\"procesador icono\" loading=\"lazy\" /></div>\\n<div class=\"fw7 f6 pl2\">Procesador:<br><span class=\"fw4 lh-copy\"> Ryzen 9 7950X (12 Núcleos)</span></div>\\n</li>\\n<li class=\"flex flex-wrap items-center mb3\">\\n<div><img class=\"ramicon\" width=\"31\" height=\"31\" src=\"/assets/images/showcase/icons/sq-ram.svg\" alt=\"Ram Icono\" loading=\"lazy\" /></div>\\n<div class=\"fw7 f6 pl2\">RAM:<br><span class=\"fw4 lh-copy\">64GB DDR5</span></div>\\n</li>\\n<li class=\"flex flex-wrap items-center mb3\">\\n<div><img class=\"storageicon\" width=\"31\" height=\"31\" src=\"/assets/images/showcase/icons/sq-hd.svg\" alt=\"Disco duro icono\" loading=\"lazy\" /></div>\\n<div class=\"fw7 f6 pl2\">Almacenamiento:<br>\\n<span class=\"fw4 lh-copy\"> + 2TB SSD NVME SSD</span></div>\\n</li>\\n<li class=\"flex flex-wrap items-center mb3\">\\n<div><img class=\"fanicon\" width=\"31\" height=\"31\" src=\"/assets/images/showcase/icons/sq-fan.svg\" alt=\"Disco duro icono\" loading=\"lazy\" /></div>\\n<div class=\"fw7 f6 pl2\">Enfriamiento:<br>\\n<span class=\"fw4 lh-copy\"> Líquido de 360mm</span></div>\\n</li>\\n</ul>\\n</a>\\n</div>\\n</div>\\n<div class=\"h-featured-pc-card flex flex-row mr0-ns mr3\">\\n<div class=\"build_card pv3 ph3-ns ph2 w-95-ns w-100 center tl\">\\n<a class=\"white no-underline\" href=\"https://spartangeek.com/pc/artemis-zx?utm_source=internal&amp;utm_campaign=home\">\\n<div class=\"config_pc_mask\">\\n<div class=\"config_pc_label f6\">\\n<i class=\"far fa-sliders-v\"></i> Configurar esta PC\\n</div>\\n</div>\\n<div class=\"relative tc\">\\n<img loading=\"lazy\" width=\"208\" height=\"208\" alt=\"Artemis ZX\" src=\"//assets.spartangeek.com/cc/_showcaseSmall/34854/Gabinete-Cooler-Master-H500-ARGB-3.webp\" />\\n<div class=\"absolute bottom-0 left-0\">\\n</div>\\n<div class=\"absolute top-0 right-0\">\\n<img src=\"/assets/images/showcase/ryzen_tag.svg\" alt />\\n<img class=\"db tr\" src=\"/assets/images/showcase/nvidia_tag.svg\" alt=\"PC Gamer con Procesadores Ryzen\">\\n</div>\\n</div>\\n<h3 class=\"f5 mv0 pt2\">Computadoras Gamer Artemis ZX</h3>\\n<div class=\"f7 pv0 mv0\">Ármala desde <br>\\n<span class=\"f3 b\">$198,530</span>\\n</div>\\n<ul class=\"list pl0\">\\n<li class=\"flex flex-wrap items-center mb3\">\\n<div><img class=\"yipicon\" width=\"31\" height=\"31\" src=\"/assets/images/showcase/icons/sq-gpu.svg\" alt=\"Tarjeta de video icono\" /></div>\\n<div class=\"fw7 f6 pl2\">Tarjeta de video:<br><span class=\"fw4\"> RTX 4060 8GB</span></div>\\n</li>\\n<li class=\"flex flex-wrap items-center mb3\">\\n<div><img class=\"cpuicon\" width=\"31\" height=\"31\" src=\"/assets/images/showcase/icons/sq-cpu.svg\" alt=\"procesador icono\" loading=\"lazy\" /></div>\\n<div class=\"fw7 f6 pl2\">Procesador:<br><span class=\"fw4 lh-copy\"> Threadripper 3990X</span></div>\\n</li>\\n<li class=\"flex flex-wrap items-center mb3\">\\n<div><img class=\"ramicon\" width=\"31\" height=\"31\" src=\"/assets/images/showcase/icons/sq-ram.svg\" alt=\"Ram Icono\" loading=\"lazy\" /></div>\\n<div class=\"fw7 f6 pl2\">RAM:<br><span class=\"fw4 lh-copy\">32GB DDR4</span></div>\\n</li>\\n<li class=\"flex flex-wrap items-center mb3\">\\n<div><img class=\"storageicon\" width=\"31\" height=\"31\" src=\"/assets/images/showcase/icons/sq-hd.svg\" alt=\"Disco duro icono\" loading=\"lazy\" /></div>\\n<div class=\"fw7 f6 pl2\">Almacenamiento:<br>\\n<span class=\"fw4 lh-copy\"> + 1TB SSD NVME SSD</span></div>\\n</li>\\n<li class=\"flex flex-wrap items-center mb3\">\\n<div><img class=\"fanicon\" width=\"31\" height=\"31\" src=\"/assets/images/showcase/icons/sq-fan.svg\" alt=\"Disco duro icono\" loading=\"lazy\" /></div>\\n<div class=\"fw7 f6 pl2\">Enfriamiento:<br>\\n<span class=\"fw4 lh-copy\"> Líquido de 360mm</span></div>\\n</li>\\n</ul>\\n</a>\\n</div>\\n</div>\\n</div>\\n</article>\\n<div class=\"pl5-ns pl0\">\\n<div class=\"s-sticky top-2\">\\n<div class=\"w-auto dib-ns dn\">\\n<div class=\"mb3 mt4\">\\n<button id=\"mode\" class=\"modeBtn\"><i id=\"iconMode\" class=\"fa-regular fa-sun-bright\"></i></button>\\n<div class=\"db dn-ns share_mobile_links f4\">\\n<div class=\"db mb3\"><a class=\"blog_share_link\" href=\"https://www.facebook.com/sharer/sharer.php?u=https%3A%2F%2Fspartangeek.com%2Fblog%2Fcu%C3%A1nto-cuesta-una-pc-gamer-en-m%C3%A9xico\"><i class=\"fab fa-facebook\"></i></a></div>\\n<div class=\"db mb3\"><a class=\"blog_share_link\" href=\"https://twitter.com/intent/tweet?text=https%3A%2F%2Fspartangeek.com%2Fblog%2Fcu%C3%A1nto-cuesta-una-pc-gamer-en-m%C3%A9xico\"><i class=\"fab fa-twitter\"></i></a></div>\\n<div class=\"db mb3\"><a class=\"blog_share_link\" href=\"https://www.linkedin.com/shareArticle?mini=true&amp;title=&amp;summary=&amp;source=&amp;url=https%3A%2F%2Fspartangeek.com%2Fblog%2Fcu%C3%A1nto-cuesta-una-pc-gamer-en-m%C3%A9xico\"><i class=\"fab fa-linkedin-in\"></i></a></div>\\n<div class=\"db mb3\">\\n<button class=\"blog_share_btn copyUrl\" data-clipboard-text=\"https://spartangeek.com/blog/cuánto-cuesta-una-pc-gamer-en-méxico\">\\n<i class=\"far fa-link\"></i>\\n</button>\\n</div>\\n</div>\\n</div>\\n<h3 class=\"f5 mv0 pv0\">Comparte este artículo</h3>\\n<div class=\"flex justify-start pv3\">\\n<div class=\"mr2\"><a class=\"blog_share_link\" href=\"https://www.facebook.com/sharer/sharer.php?u=https%3A%2F%2Fspartangeek.com%2Fblog%2Fcu%C3%A1nto-cuesta-una-pc-gamer-en-m%C3%A9xico\"><i class=\"fab fa-facebook\"></i></a></div>\\n<div class=\"mr2\"><a class=\"blog_share_link\" href=\"https://twitter.com/intent/tweet?text=https%3A%2F%2Fspartangeek.com%2Fblog%2Fcu%C3%A1nto-cuesta-una-pc-gamer-en-m%C3%A9xico\"><i class=\"fab fa-twitter\"></i></a></div>\\n<div class=\"mr2\"><a class=\"blog_share_link\" href=\"https://www.linkedin.com/shareArticle?mini=true&amp;title=&amp;summary=&amp;source=&amp;url=https%3A%2F%2Fspartangeek.com%2Fblog%2Fcu%C3%A1nto-cuesta-una-pc-gamer-en-m%C3%A9xico\"><i class=\"fab fa-linkedin-in\"></i></a></div>\\n<div class=\"mr2\">\\n<button class=\"blog_share_btn copyUrl\" data-clipboard-text=\"https://spartangeek.com/blog/cuánto-cuesta-una-pc-gamer-en-méxico\">\\n<i class=\"far fa-link\"></i>\\n</button>\\n</div>\\n</div>\\n<div class=\"dib-ns dn\">\\n<div class=\"w5 customBuild_card tc\">\\n<h2 class=\"f4 mb0 mt0\">¿Buscas una PC Personalizada?</h2>\\n<p class=\"f6 mt1\">Arma tu Computadora gamer o worksation con nosotros.</p>\\n<img class=\"w-70 center\" src=\"/assets/images/blog/buildBanner.webp\" alt=\"Armar PC Gamer\" />\\n<a class=\"primBtn_s fw7 db tc mt1 f6 ph2 pv3 br2\" href=\"https://spartangeek.com/asistente?ref=blog\">Configurar PC</a>\\n</div>\\n</div>\\n</div>\\n</div> </div>\\n</div>\\n</div>\\n</main>\\n<section class=\"pv5\">\\n<div class=\"mw7 center ph3 ph0-ns\">\\n<div class=\"flex flex-wrap-reverse\">\\n<div class=\"w-50-ns w-100 \">\\n<a href=\"https://spartangeek.com/blog/trucos-de-google-meet-cómo-programar-una-reunión\">\\n<article class=\"w-90-ns w-100\">\\n<div class=\"thumbBlogImage mb3\" style=\"background-image:url(\\' //assets.spartangeek.com/cc/descargar-google-meet-para-pc.jpg \\')\">\\n</div>\\n<h3 class=\"f3\">Trucos de Google Meet: cómo programar una reunión y todo lo que debes saber</h3>\\n<p class=\"lh-title\">Cómo se usa Google Meet: trucos, tips y consejos que puedes necesitar para sacarle todo el provecho a la aplicación de videollamadas de Google</p>\\n<div class=\"flex f6 thumbBlogCardFooter\">\\n<span class=\"mr2\"><i class=\"far fa-calendar-day\"></i> 21 mar. 2021</span>\\n</div>\\n</article>\\n</a>\\n</div>\\n<div class=\"w-50-ns w-100 mb0-ns mb4\">\\n<a href=\"https://spartangeek.com/blog/juegos-de-carreras-los-mejores-juegos-de-carros-para-pc-del-año\">\\n<article class=\"w-90-ns w-100\">\\n<div class=\"thumbBlogImage mb3\" style=\"background-image:url(\\' //assets.spartangeek.com/cc/descargar-juegos-de-carreras.jpg \\')\">\\n</div>\\n<h3 class=\"f3\">Juegos de carreras: los mejores juegos de carros para PC del año</h3>\\n<p class=\"lh-title\">Juegos de carreras: review de los mejores juegos de coches y motos para PC del año. Juegos de carros gratis para computadora, simulador de carreras, juegos de carreras para 2 y mucho más...</p>\\n<div class=\"flex f6 thumbBlogCardFooter\">\\n<span class=\"mr2\"><i class=\"far fa-calendar-day\"></i> 22 mar. 2021</span>\\n</div>\\n</article>\\n</a>\\n</div>\\n</div>\\n</div>\\n</section>\\n<div class=\"bg-carbon\">\\n<footer class=\"pv5\">\\n<div class=\"mw8 center ph3\">\\n<div class=\"flex flex-wrap justify-between pb3\">\\n<div class=\"f-logo\"><img loading=\"lazy\" width=\"110\" height=\"50\" src=\"/assets/images/home/footer/mp-f.svg\" alt=\"Mercado Pago Logo\"></div>\\n<div class=\"f-logo\"><img loading=\"lazy\" width=\"110\" height=\"50\" src=\"/assets/images/home/footer/banamex-f.svg\" alt=\"Banamex Logo\"></div>\\n<div class=\"f-logo\"><img loading=\"lazy\" width=\"110\" height=\"50\" src=\"/assets/images/home/footer/bbva-f.svg\" alt=\"BBVA logo\"></div>\\n<div class=\"f-logo\"><img loading=\"lazy\" width=\"110\" height=\"50\" src=\"/assets/images/home/footer/santander-f.svg\" alt=\"Santander logo\"></div>\\n<div class=\"f-logo\"><img width=\"110\" height=\"50\" loading=\"lazy\" src=\"/assets/images/home/footer/visa-f.svg\" alt=\"Visa Logo\"></div>\\n<div class=\"f-logo\"><img loading=\"lazy\" width=\"110\" height=\"50\" src=\"/assets/images/home/footer/mc-f.svg\" alt=\"Master Card Logo\"></div>\\n<div class=\"f-logo\"><img loading=\"lazy\" width=\"110\" height=\"50\" src=\"/assets/images/home/footer/amex-f.svg\" alt=\"Master Card Logo\"></div>\\n<div class=\"f-logo\"><img loading=\"lazy\" width=\"110\" height=\"50\" src=\"/assets/images/home/footer/oxxo-f.svg\" alt=\"Oxxo logo\"></div>\\n<div class=\"f-logo\"><img loading=\"lazy\" width=\"110\" height=\"50\" src=\"/assets/images/home/footer/seven-f.svg\" alt=\"Seven eleven logo\"></div>\\n<div class=\"f-logo\"><img loading=\"lazy\" width=\"110\" height=\"50\" src=\"/assets/images/home/footer/chedrahui-f.svg\" alt=\"Chedrahui Logo SVG\" /></div>\\n<div class=\"f-logo\"><img loading=\"lazy\" width=\"110\" height=\"50\" src=\"/assets/images/home/footer/telecom-f.png\" alt=\"Telecom logo\" /></div>\\n<div class=\"f-logo\"><img loading=\"lazy\" width=\"110\" height=\"50\" src=\"/assets/images/home/footer/ahorro-f.svg\" alt=\"Farmacias del ahorro logo\" /></div>\\n<div class=\"f-logo\"><img loading=\"lazy\" width=\"110\" height=\"50\" src=\"/assets/images/home/footer/ley-f.png\" alt=\"Casa Ley logo\" /></div>\\n<div class=\"f-logo\"><img loading=\"lazy\" width=\"110\" height=\"50\" src=\"/assets/images/home/footer/bitcoin-f.svg\" alt=\"Bitcoin logo\"></div>\\n<div class=\"f-logo\"><img loading=\"lazy\" width=\"110\" height=\"50\" src=\"/assets/images/home/footer/codi-f.svg\" alt=\"CODI logo\"></div>\\n<div class=\"f-logo\"><img loading=\"lazy\" width=\"110\" height=\"50\" src=\"/assets/images/home/footer/paypal-f.svg\" alt=\"Paypal\"></div>\\n</div>\\n<div class=\"flex flex-wrap justify-between pv4\">\\n<div class=\"w-25-ns w-100 mt0-ns mt2\">\\n<img width=\"148\" height=\"26\" loading=\"lazy\" src=\"/assets/images/logo.svg\" alt=\"SpartanGeek logo\">\\n<p class=\"f6 lh-copy\">10 años y miles de usuarios nos respaldan. Aliados oficiales\\nde las marcas de mayor desempeño.</p>\\n<h4 class=\"white mv1\">Síguenos en</h4>\\n<div class=\"flex flex-wrap items-center justify-start f5 pv3\">\\n<div class=\"pr3-ns\">\\n<a aria-label=\"Visita Nuestro Canal de Youtube\" class=\"f5-ns f3 pr2 white-60 hover-white\" href=\"https://www.youtube.com/c/SpartanGeekOficial\" target=\"_blank\"><i class=\"fab fa-youtube\"></i></a>\\n</div>\\n<div class=\"pr3-ns\">\\n<a aria-label=\"Visita Nuestra página de Facebook\" class=\"f5-ns f3 pr2 white-60 hover-white\" href=\"https://facebook.com/SpartanGeek/\" target=\"_blank\"><i class=\"fab fa-facebook-square\"></i></a>\\n</div>\\n<div class=\"pr3-ns\">\\n<a aria-label=\"Visita Nuestro Instagram\" class=\"f5-ns f3 pr2 white-60 hover-white\" href=\"https://www.instagram.com/spartangeektv/\" target=\"_blank\"><i class=\"fab fa-instagram\"></i></a>\\n</div>\\n<div class=\"pr3-ns\">\\n<a aria-label=\"Visita Nuestro Twitter\" class=\"f5-ns f3 pr2 white-60 hover-white\" href=\"https://twitter.com/spartangeektv\" target=\"_blank\"><i class=\"fab fa-twitter\"></i></a>\\n</div>\\n<div class=\"pr3-ns\">\\n<a aria-label=\"Visita Nuestro Canal de Twitch\" class=\"f5-ns f3 pr2 white-60 hover-white\" href=\"https://www.twitch.tv/spartangeek\" target=\"_blank\"><i class=\"fab fa-twitch\"></i></a>\\n</div>\\n<div class=\"pr3-ns\">\\n<a aria-label=\"Visita Nuestro Tiktok\" class=\"f5-ns f3 pr2 white-60 hover-white\" href=\"https://www.tiktok.com/@spartangeek\" target=\"_blank\"><i class=\"fab fa-tiktok\"></i></a>\\n</div>\\n<div class=\"pr3-ns\">\\n<a aria-label=\"Visita Nuestro perfil de Linkedin\" class=\"f5-ns f3 pr2 white-60 hover-white\" href=\"https://www.linkedin.com/company/spartan-geek/\" target=\"_blank\"><i class=\"fab fa-linkedin-in\"></i></a>\\n</div>\\n</div>\\n<h5 class=\"lh-copy mv0 fw5 f5\">Todos los derechos reservados a\\nComparateca SAPI de CV 2023</h5>\\n</div>\\n<div class=\"w-25-ns w-50 mt0-ns mt2\">\\n<h3 class=\"f6-ns f5  white mv0 pv1\">Soluciones</h3>\\n<ul class=\"list pl0\">\\n<li class=\"pv1\"><a class=\"f-link f5-ns f4\" href=\"https://spartangeek.com/reparacion-de-computadoras\">Reparación de Computadoras</a></li>\\n<li class=\"pv1\"><a class=\"f-link f5-ns f4\" href=\"https://spartangeek.com/mantenimiento-de-computadoras\">Servicio de Mantenimiento</a></li>\\n<li class=\"pv1\"><a class=\"f-link f5-ns f4\" href=\"https://spartangeek.com/reparacion-de-laptops\">Reparación de Laptops</a></li>\\n<li class=\"pv1\"><a class=\"f-link f5-ns f4\" href=\"https://spartangeek.com/showcase/pc-gamer\">PC Gamer</a></li>\\n<li class=\"pv1\"><a class=\"f-link f5-ns f4\" href=\"https://spartangeek.com/showcase/arquitectura\">PC Arquitectura</a></li>\\n<li class=\"pv1\"><a class=\"f-link f5-ns f4\" href=\"https://spartangeek.com/creadores\">PC Diseño Gráfico</a></li>\\n<li class=\"pv1\"><a class=\"f-link f5-ns f4\" href=\"https://spartangeek.com/computadoras-para-streaming\">PC Streaming</a></li>\\n<li class=\"pv1\"><a class=\"f-link f5-ns f4\" href=\"https://spartangeek.com/pc-para-realidad-virtual\">PC Realidad Virtual</a></li>\\n<li class=\"pv1\"><a class=\"f-link f5-ns f4\" href=\"https://spartangeek.com/showcase/pc-gamer-intel\">PC Gamer Intel</a></li>\\n<li class=\"pv1\"><a class=\"f-link f5-ns f4\" href=\"https://spartangeek.com/showcase/pc-gamer-ryzen\">PC Gamer Ryzen</a></li>\\n<li class=\"pv1\"><a class=\"f-link f5-ns f4\" href=\"https://spartangeek.com/showcase/workstation?cpu=intel\">Workstation Intel</a></li>\\n<li class=\"pv1\"><a class=\"f-link f5-ns f4\" href=\"https://spartangeek.com/showcase/workstation?cpu=intel\">Workstation Ryzen</a></li>\\n<li class=\"pv1\"><a class=\"f-link f5-ns f4\" href=\"https://spartangeek.com/home-office\">Home Office</a></li>\\n</ul>\\n</div>\\n<div class=\"w-25-ns w-50 mt0-ns mt2\">\\n<h3 class=\"ff6-ns f5 6 white mv0 pv1\">Enlaces</h3>\\n<ul class=\"list pl0\">\\n<li class=\"pv1\"><a class=\"f-link f5-ns f4\" href=\"https://spartangeek.com/asistente\">Pide tu PC Personalizada</a></li>\\n<li class=\"pv1\"><a class=\"f-link f5-ns f4\" href=\"https://spartangeek.com/kueski\">Kueski Pay</a></li>\\n<li class=\"pv1\"><a class=\"f-link f5-ns f4\" href=\"https://spartangeek.com/showcase/remate-de-computadoras-armadas\">Computadoras en Remate</a></li>\\n<li class=\"pv1\"><a class=\"f-link f5-ns f4\" href=\"https://spartangeek.com/tienda\">Tienda</a></li>\\n<li class=\"pv1\"><a class=\"f-link f5-ns f4\" href=\"https://spartangeek.com/tienda/sillas-gamer\">Sillas Gamer</a></li>\\n<li class=\"pv1\"><a class=\"f-link f5-ns f4\" href=\"https://spartangeek.com/tarjetas-nvidia-rtx\">Tarjetas NVIDIA RTX</a></li>\\n<li class=\"pv1\"><a class=\"f-link f5-ns f4\" href=\"https://spartangeek.com/kueski\">Financiamiento con Kueski</a></li>\\n<li class=\"pv1\"><a class=\"f-link f5-ns f4\" href=\"https://spartangeek.com/buen-fin\">Buen Fin 2023</a></li>\\n<li class=\"pv1\"><a class=\"f-link f5-ns f4\" href=\"https://spartangeek.com/terminos\">Términos y condiciones</a></li>\\n<li class=\"pv1\"><a class=\"f-link f5-ns f4\" href=\"https://spartangeek.com/privacidad\">Aviso de privacidad</a></li>\\n</ul>\\n</div>\\n<div class=\"w-25-ns w-50 mt0-ns mt2\">\\n<h3 class=\"f6-ns f5 white mv0 pv1\">Comunidad</h3>\\n<ul class=\"list pl0\">\\n<li class=\"pv1\"><a class=\"f-link f5-ns f4\" href=\"https://buldar.com/\" target=\"_blank\">Foro de discusión</a></li>\\n<li class=\"pv1\"><a class=\"f-link f5-ns f4\" href=\"https://spartangeek.com/blog\">Blog de noticias</a></li>\\n</ul>\\n<h3 class=\"f6 white mv0 pv1\">Soporte y contacto</h3>\\n<ul class=\"list pl0\">\\n<li class=\"pv1\"><a class=\"f-link f5-ns f4\" href=\"/cdn-cgi/l/email-protection#49392c2d202d263a093a39283b3d28272e2c2c22672a2624\"><span class=\"__cf_email__\" data-cfemail=\"057560616c616a76457675647771646b6260606e2b666a68\">[email&#160;protected]</span></a></li>\\n<li class=\"pv1\"><a class=\"f-link f5-ns f4\" href=\"https://spartangeek.com/servicio-tecnico\">Servicio Técnico</a></li>\\n</ul>\\n</div>\\n</div>\\n<div class=\"tc f7 f-made\">Made With 💪 from CDMX</div>\\n</div>\\n</footer> </div>\\n<script data-cfasync=\"false\" src=\"/cdn-cgi/scripts/5c5dd728/cloudflare-static/email-decode.min.js\"></script><script src=\"/assets/js/darkmode.js\"></script>\\n<script src=\"/assets/js/hScroll.js\" defer></script>\\n<script src=\" https://cdnjs.cloudflare.com/ajax/libs/clipboard.js/2.0.4/clipboard.min.js\" async></script>\\n<script>\\n        var clipboard = new ClipboardJS(\\'.copyUrl\\');\\n    </script>\\n<script src=\"https://cdnjs.cloudflare.com/ajax/libs/jquery/3.3.1/jquery.min.js\"></script>\\n<script src=\"https://unpkg.com/htmx.org@1.7.0/dist/htmx.min.js\" integrity=\"sha384-EzBXYPt0/T6gxNp0nuPtLkmRpmDBbjg6WmCUZRLXBBwYYmwAUxzlSGej0ARHX0Bo\" crossorigin=\"anonymous\"></script>\\n<script>(function(w){\\n            $.ajax({\\n                method: \\'POST\\',\\n                url: \\'/visit-data\\',\\n                data: JSON.stringify({url: window.location.href}),\\n                contentType: \\'application/json; charset=utf-8\\',\\n            })\\n            })(window)</script>\\n<script type=\"text/javascript\">\\n            $(document).ready(function() {\\n                $(\"#nav li\").hover(\\n                    function() {\\n                        $(this).children(\\'ul\\').hide();\\n                        $(this).children(\\'ul\\').slideDown(\\'fast\\');\\n                    },\\n                    function() {\\n                        $(\\'ul\\', this).slideUp(\\'fast\\');\\n                    });\\n            });\\n            function mNav_open() {\\n                document.getElementById(\"mobile-accordion\").style.display = \"block\";\\n            }\\n            function mNav_close() {\\n                document.getElementById(\"mobile-accordion\").style.display = \"none\";\\n            }\\n            var acc = document.getElementsByClassName(\"accordion-nav\");\\n            for (var i = 0; i < acc.length; i++) {\\n                acc[i].addEventListener(\"click\", function () {\\n                    this.classList.toggle(\"active\");\\n                    var panel = this.nextElementSibling;\\n                    if (panel.style.maxHeight) {\\n                        panel.style.maxHeight = null;\\n                    } else {\\n                        panel.style.maxHeight = panel.scrollHeight + \"px\";\\n                    }\\n                });\\n            }\\n            $(\\'.accordion__item-label\\').on(\\'click\\', function() {\\n                $(this).addClass(\\'blue\\');\\n                $(this).parent(\\'.accordion__item\\').siblings().find(\\'.accordion__item-label\\').removeClass(\\'blue\\');\\n            });\\n            window.updateQueryParams = function(params, id) {\\n                var current = new window.URLSearchParams(window.location.search);\\n                Object.keys(params).forEach(function(key) {\\n                    current.set(key, params[key]);\\n                });\\n                window.location.href = \\'?\\' + current.toString() + ( id ? \\'#\\' + id : \\'\\' );\\n            };\\n        </script>\\n<script>(function(){var js = \"window[\\'__CF$cv$params\\']={r:\\'81016b16eb8731e6\\',t:\\'MTY5NjI5NjYxMC42MTUwMDA=\\'};_cpo=document.createElement(\\'script\\');_cpo.nonce=\\'\\',_cpo.src=\\'/cdn-cgi/challenge-platform/scripts/jsd/main.js\\',document.getElementsByTagName(\\'head\\')[0].appendChild(_cpo);\";var _0xh = document.createElement(\\'iframe\\');_0xh.height = 1;_0xh.width = 1;_0xh.style.position = \\'absolute\\';_0xh.style.top = 0;_0xh.style.left = 0;_0xh.style.border = \\'none\\';_0xh.style.visibility = \\'hidden\\';document.body.appendChild(_0xh);function handler() {var _0xi = _0xh.contentDocument || _0xh.contentWindow.document;if (_0xi) {var _0xj = _0xi.createElement(\\'script\\');_0xj.innerHTML = js;_0xi.getElementsByTagName(\\'head\\')[0].appendChild(_0xj);}}if (document.readyState !== \\'loading\\') {handler();} else if (window.addEventListener) {document.addEventListener(\\'DOMContentLoaded\\', handler);} else {var prev = document.onreadystatechange || function () {};document.onreadystatechange = function (e) {prev(e);if (document.readyState !== \\'loading\\') {document.onreadystatechange = prev;handler();}};}})();</script></body>\\n</html>'"
      ]
     },
     "execution_count": 187,
     "metadata": {},
     "output_type": "execute_result"
    }
   ],
   "source": [
    "r.text"
   ]
  },
  {
   "cell_type": "code",
   "execution_count": 188,
   "metadata": {},
   "outputs": [],
   "source": [
    "soup = BeautifulSoup(r.text, 'html.parser')\n",
    "results = soup.find_all(['p','h1','h2'])\n",
    "text = [result.text for result in results]\n",
    "ARTICLE = ' '.join(text)"
   ]
  },
  {
   "cell_type": "code",
   "execution_count": 189,
   "metadata": {},
   "outputs": [
    {
     "name": "stdout",
     "output_type": "stream",
     "text": [
      "¿Cuánto cuesta una PC gamer en México? (Actualizado 2023) A diferencia de las consolas, una PC gamer puede llegar a ser realmente costosa. Pero cuánto cuesta una PC gamer en México depende de la potencia del hardware que utilice. Una computadora gamer barata puede satisfacer las necesidades más básicas, pero un gamer dedicado necesitará un equipo más potente. ¿Cuánto cuesta armar una PC gamer? Depende del tipo de computadora gamer que quieras. Una PC gamer armada puede costar $12,000 pesos, si usas hardware de gama baja, o más de $100,000 pesos si usas lo mejor que el mercado puede ofrecer en componentes. ¿Cuánto cuesta una PC gamer barata? Una computadora para videojuegos barata vale entre $12,000 pesos y $21,000 pesos. Entre las pc gamers más baratas encontramos procesadores Intel i3 o Ryzen 3 y gráficos Radeon Vega 11 y RX 550. Por ejemplo, la PC gamer Agis R5 ofrece CPU Ryzen 5 3400G, gráficos Radeon Vega 11, 8 GB de RAM y 1 TB HDD por $13,390 pesos. Mientras que con la Gladius 50i obtienes un Intel Core i3 9100F y tarjeta de video GTX 1650 por $15,760. En el extremo más alto de la gama baja encontramos, por ejemplo, computadoras gaming como la Gladius 60i, con procesador Intel i5 de novena generación y tarjeta gráfica Nvidia GTX 1660 por $20,400 pesos. Mientras que esta otra PC gamer te ofrece un CPU Ryzen 5 3400G y gráficos GTX 1660 Super por $21,135 pesos. Las mejores Computadoras Gamer Baratas  ¿Cuánto vale una PC gamer de gama media? Una PC gamer armada de gama media cuesta entre $25,000 pesos y $40,000 pesos. Por $24,195 pesos es posible adquirir una computadora para gaming con Intel Core i5 de décima generación y gráficos GTX 1660 Super. Para adquirir algo más de RAM hay que pagar más. La Delios 50i viene con procesador i5 de novena generación, gráficos RTX 2060 Y 16 GB de RAM por algo menos de $30,000 pesos. Si necesitas más potencia gráfica tendrás que acercarte al extremo superior de la gama media. Por $37,530 pesos puedes comprar una PC gamer con tarjeta de video RTX 2070 y procesador Ryzen 5 3600. Mientras que por poco menos de $40,000 pesos puedes mejorar esta configuración con un procesador Intel i5 de décima generación y 2 TB de disco duro HDD.  Computadoras Gaming Gama Media que puedes comprar  ¿Cuánto cuesta una PC gamer de gama alta? Una computadora gamer de gama alta puede costar más de $40,000 pesos y el cielo es el límite. Pero la recompensa son mejores gráficos, lo cual es siempre el objetivo en una PC gamer. Puedes obtener tarjetas de video de nueva generación con la Stelios 70i, que por $48,480 te ofrece GPU Nvidia RTX 3070 y un procesador Intel Core i5 de novena generación. Si buscas más potencia de procesamiento, la Stelios 70z viene con CPU Ryzen 7 3700X y la misma RTX 3070. En el rango de los $60,000 puedes elegir entre una PC con procesador Intel i5 de décima generación y RTX 3080 o una computadora con CPU Intel i9 de novena generación y gráficos RTX 2080. En el rango de los $100,000 en adelante encuentras PCs con procesadores Ryzen 9, gráficos RTX 3090 y memoria RAM de 64 GB.  Las Mejores PC Gamer Gama Alta  ¿Buscas una PC Personalizada? Arma tu Computadora gamer o worksation con nosotros. Cómo se usa Google Meet: trucos, tips y consejos que puedes necesitar para sacarle todo el provecho a la aplicación de videollamadas de Google Juegos de carreras: review de los mejores juegos de coches y motos para PC del año. Juegos de carros gratis para computadora, simulador de carreras, juegos de carreras para 2 y mucho más... 10 años y miles de usuarios nos respaldan. Aliados oficiales\n",
      "de las marcas de mayor desempeño.\n"
     ]
    }
   ],
   "source": [
    "print(ARTICLE)"
   ]
  },
  {
   "cell_type": "code",
   "execution_count": 190,
   "metadata": {},
   "outputs": [],
   "source": [
    "max_chunk = 500"
   ]
  },
  {
   "cell_type": "code",
   "execution_count": 191,
   "metadata": {},
   "outputs": [],
   "source": [
    "ARTICLE = ARTICLE.replace('.', '.<eos>')\n",
    "ARTICLE = ARTICLE.replace('?', '?<eos>')\n",
    "ARTICLE = ARTICLE.replace('!', '!<eos>')"
   ]
  },
  {
   "cell_type": "code",
   "execution_count": 192,
   "metadata": {},
   "outputs": [
    {
     "name": "stdout",
     "output_type": "stream",
     "text": [
      "0\n"
     ]
    }
   ],
   "source": [
    "sentences = ARTICLE.split('<eos>')\n",
    "current_chunk = 0 \n",
    "chunks = []\n",
    "for sentence in sentences:\n",
    "    if len(chunks) == current_chunk + 1: \n",
    "        if len(chunks[current_chunk]) + len(sentence.split(' ')) <= max_chunk:\n",
    "            chunks[current_chunk].extend(sentence.split(' '))\n",
    "        else:\n",
    "            current_chunk += 1\n",
    "            chunks.append(sentence.split(' '))\n",
    "    else:\n",
    "        print(current_chunk)\n",
    "        chunks.append(sentence.split(' '))\n",
    "\n",
    "for chunk_id in range(len(chunks)):\n",
    "    chunks[chunk_id] = ' '.join(chunks[chunk_id])"
   ]
  },
  {
   "cell_type": "code",
   "execution_count": 193,
   "metadata": {},
   "outputs": [
    {
     "data": {
      "text/plain": [
       "2"
      ]
     },
     "execution_count": 193,
     "metadata": {},
     "output_type": "execute_result"
    }
   ],
   "source": [
    "len(chunks)"
   ]
  },
  {
   "cell_type": "code",
   "execution_count": 194,
   "metadata": {},
   "outputs": [],
   "source": [
    "res = summarizer(chunks, max_length=100, min_length=30, do_sample=False)"
   ]
  },
  {
   "cell_type": "code",
   "execution_count": 195,
   "metadata": {},
   "outputs": [
    {
     "data": {
      "text/plain": [
       "{'summary_text': 'una PC gamer en México depende de la potencia del hardware que utilice . una computadora gamer barata puede satisfacer las necesidades más básicas, pero un gamer dedicado necesitará un equipo más potente .'}"
      ]
     },
     "execution_count": 195,
     "metadata": {},
     "output_type": "execute_result"
    }
   ],
   "source": [
    "res[0]"
   ]
  },
  {
   "cell_type": "code",
   "execution_count": 196,
   "metadata": {},
   "outputs": [
    {
     "data": {
      "text/plain": [
       "'una PC gamer en México depende de la potencia del hardware que utilice . una computadora gamer barata puede satisfacer las necesidades más básicas, pero un gamer dedicado necesitará un equipo más potente . si buscas más potencia de procesamiento, la Stelios 70z viene con CPU Ryzen 7 3700X y la misma RTX 3070 . adelante encuentras PCs con procesadores Ryzen 9, gráficos 3090 y memoria RAM de 64 GB .'"
      ]
     },
     "execution_count": 196,
     "metadata": {},
     "output_type": "execute_result"
    }
   ],
   "source": [
    "texto=' '.join([summ['summary_text'] for summ in res])\n",
    "texto"
   ]
  },
  {
   "cell_type": "code",
   "execution_count": 197,
   "metadata": {},
   "outputs": [
    {
     "data": {
      "text/plain": [
       "str"
      ]
     },
     "execution_count": 197,
     "metadata": {},
     "output_type": "execute_result"
    }
   ],
   "source": [
    "type(texto)"
   ]
  },
  {
   "cell_type": "code",
   "execution_count": 179,
   "metadata": {},
   "outputs": [
    {
     "data": {
      "text/plain": [
       "'data science es una disciplina cientfica centrada en el análisis de grandes fuentes de datos para extraer información, comprender la realidad y descubrir patrones con los que tomar decisiones . data science no existira de no se encargan de ello son . alguna vez te ha llamado tu compaa telefónica para hacerte una serie de hechos . de este modo, el nivel más bajo aprende algo simple, convirtiéndola '"
      ]
     },
     "execution_count": 179,
     "metadata": {},
     "output_type": "execute_result"
    }
   ],
   "source": [
    "texto[0:400]"
   ]
  },
  {
   "cell_type": "code",
   "execution_count": 198,
   "metadata": {},
   "outputs": [
    {
     "data": {
      "text/plain": [
       "\"A gaming PC in Mexico depends on the power of the hardware it uses. A cheap gaming computer can satisfy the most basic needs, but a dedicated gamer will need a more powerful computer. If you're looking for more processing power, the Stelios 70z comes with Ryzen 7 3700X CPU and the same RTX 3070. Below you will find PCs with Ryzen 9 processors, 3090 graphics and 64 GB RAM.\""
      ]
     },
     "execution_count": 198,
     "metadata": {},
     "output_type": "execute_result"
    }
   ],
   "source": [
    "from deep_translator import GoogleTranslator\n",
    "translated = GoogleTranslator(source='auto', target='en').translate(texto)\n",
    "translated"
   ]
  },
  {
   "cell_type": "code",
   "execution_count": 203,
   "metadata": {},
   "outputs": [
    {
     "name": "stdout",
     "output_type": "stream",
     "text": [
      "[2]\n"
     ]
    }
   ],
   "source": [
    "predictions = text_clf.predict([translated])\n",
    "print(predictions)"
   ]
  },
  {
   "cell_type": "code",
   "execution_count": 155,
   "metadata": {},
   "outputs": [
    {
     "data": {
      "text/plain": [
       "array(['Sports'], dtype=object)"
      ]
     },
     "execution_count": 155,
     "metadata": {},
     "output_type": "execute_result"
    }
   ],
   "source": [
    "clases[predictions]"
   ]
  },
  {
   "cell_type": "code",
   "execution_count": 156,
   "metadata": {},
   "outputs": [
    {
     "data": {
      "text/plain": [
       "array(['Adult', 'Business/Corporate', 'Computers and Technology',\n",
       "       'E-Commerce', 'Education', 'Food', 'Forums', 'Games',\n",
       "       'Health and Fitness', 'Law and Government', 'News', 'Photography',\n",
       "       'Social Networking and Messaging', 'Sports', 'Streaming Services',\n",
       "       'Travel'], dtype=object)"
      ]
     },
     "execution_count": 156,
     "metadata": {},
     "output_type": "execute_result"
    }
   ],
   "source": [
    "clases"
   ]
  }
 ],
 "metadata": {
  "kernelspec": {
   "display_name": ".venv",
   "language": "python",
   "name": "python3"
  },
  "language_info": {
   "codemirror_mode": {
    "name": "ipython",
    "version": 3
   },
   "file_extension": ".py",
   "mimetype": "text/x-python",
   "name": "python",
   "nbconvert_exporter": "python",
   "pygments_lexer": "ipython3",
   "version": "3.11.4"
  },
  "orig_nbformat": 4
 },
 "nbformat": 4,
 "nbformat_minor": 2
}
